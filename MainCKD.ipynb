{
 "cells": [
  {
   "cell_type": "markdown",
   "id": "f3642744",
   "metadata": {},
   "source": [
    "# Importing Libraries"
   ]
  },
  {
   "cell_type": "code",
   "execution_count": 14,
   "id": "327ba680",
   "metadata": {},
   "outputs": [],
   "source": [
    "import pandas as pd\n",
    "import numpy as np"
   ]
  },
  {
   "cell_type": "code",
   "execution_count": 15,
   "id": "c8bb6edd",
   "metadata": {},
   "outputs": [],
   "source": [
    "import matplotlib.pyplot as plt\n",
    "%matplotlib inline\n",
    "import seaborn as sns"
   ]
  },
  {
   "cell_type": "code",
   "execution_count": 16,
   "id": "97c2a674",
   "metadata": {},
   "outputs": [],
   "source": [
    "from sklearn.preprocessing import StandardScaler\n",
    "from sklearn.model_selection import train_test_split\n",
    "from sklearn.impute import KNNImputer\n",
    "from sklearn.linear_model import LogisticRegression\n",
    "from sklearn.ensemble import RandomForestClassifier\n",
    "from sklearn.metrics import confusion_matrix,classification_report,accuracy_score\n",
    "from sklearn.ensemble import VotingClassifier"
   ]
  },
  {
   "cell_type": "code",
   "execution_count": 17,
   "id": "b6eaee16",
   "metadata": {},
   "outputs": [],
   "source": [
    "import warnings\n",
    "warnings.filterwarnings(\"ignore\")"
   ]
  },
  {
   "cell_type": "markdown",
   "id": "a03261d7",
   "metadata": {},
   "source": [
    "# PreProcessing"
   ]
  },
  {
   "cell_type": "code",
   "execution_count": 18,
   "id": "938aa976",
   "metadata": {},
   "outputs": [
    {
     "data": {
      "text/plain": [
       "(400, 26)"
      ]
     },
     "execution_count": 18,
     "metadata": {},
     "output_type": "execute_result"
    }
   ],
   "source": [
    "kd= pd.read_csv(\"kidney_disease.csv\")\n",
    "kd.shape"
   ]
  },
  {
   "cell_type": "code",
   "execution_count": 19,
   "id": "8a6e0377",
   "metadata": {},
   "outputs": [
    {
     "data": {
      "text/html": [
       "<div>\n",
       "<style scoped>\n",
       "    .dataframe tbody tr th:only-of-type {\n",
       "        vertical-align: middle;\n",
       "    }\n",
       "\n",
       "    .dataframe tbody tr th {\n",
       "        vertical-align: top;\n",
       "    }\n",
       "\n",
       "    .dataframe thead th {\n",
       "        text-align: right;\n",
       "    }\n",
       "</style>\n",
       "<table border=\"1\" class=\"dataframe\">\n",
       "  <thead>\n",
       "    <tr style=\"text-align: right;\">\n",
       "      <th></th>\n",
       "      <th>id</th>\n",
       "      <th>age</th>\n",
       "      <th>bp</th>\n",
       "      <th>sg</th>\n",
       "      <th>al</th>\n",
       "      <th>su</th>\n",
       "      <th>rbc</th>\n",
       "      <th>pc</th>\n",
       "      <th>pcc</th>\n",
       "      <th>ba</th>\n",
       "      <th>...</th>\n",
       "      <th>pcv</th>\n",
       "      <th>wc</th>\n",
       "      <th>rc</th>\n",
       "      <th>htn</th>\n",
       "      <th>dm</th>\n",
       "      <th>cad</th>\n",
       "      <th>appet</th>\n",
       "      <th>pe</th>\n",
       "      <th>ane</th>\n",
       "      <th>classification</th>\n",
       "    </tr>\n",
       "  </thead>\n",
       "  <tbody>\n",
       "    <tr>\n",
       "      <th>0</th>\n",
       "      <td>0</td>\n",
       "      <td>48.0</td>\n",
       "      <td>80.0</td>\n",
       "      <td>1.020</td>\n",
       "      <td>1.0</td>\n",
       "      <td>0.0</td>\n",
       "      <td>NaN</td>\n",
       "      <td>normal</td>\n",
       "      <td>notpresent</td>\n",
       "      <td>notpresent</td>\n",
       "      <td>...</td>\n",
       "      <td>44</td>\n",
       "      <td>7800</td>\n",
       "      <td>5.2</td>\n",
       "      <td>yes</td>\n",
       "      <td>yes</td>\n",
       "      <td>no</td>\n",
       "      <td>good</td>\n",
       "      <td>no</td>\n",
       "      <td>no</td>\n",
       "      <td>ckd</td>\n",
       "    </tr>\n",
       "    <tr>\n",
       "      <th>1</th>\n",
       "      <td>1</td>\n",
       "      <td>7.0</td>\n",
       "      <td>50.0</td>\n",
       "      <td>1.020</td>\n",
       "      <td>4.0</td>\n",
       "      <td>0.0</td>\n",
       "      <td>NaN</td>\n",
       "      <td>normal</td>\n",
       "      <td>notpresent</td>\n",
       "      <td>notpresent</td>\n",
       "      <td>...</td>\n",
       "      <td>38</td>\n",
       "      <td>6000</td>\n",
       "      <td>NaN</td>\n",
       "      <td>no</td>\n",
       "      <td>no</td>\n",
       "      <td>no</td>\n",
       "      <td>good</td>\n",
       "      <td>no</td>\n",
       "      <td>no</td>\n",
       "      <td>ckd</td>\n",
       "    </tr>\n",
       "    <tr>\n",
       "      <th>2</th>\n",
       "      <td>2</td>\n",
       "      <td>62.0</td>\n",
       "      <td>80.0</td>\n",
       "      <td>1.010</td>\n",
       "      <td>2.0</td>\n",
       "      <td>3.0</td>\n",
       "      <td>normal</td>\n",
       "      <td>normal</td>\n",
       "      <td>notpresent</td>\n",
       "      <td>notpresent</td>\n",
       "      <td>...</td>\n",
       "      <td>31</td>\n",
       "      <td>7500</td>\n",
       "      <td>NaN</td>\n",
       "      <td>no</td>\n",
       "      <td>yes</td>\n",
       "      <td>no</td>\n",
       "      <td>poor</td>\n",
       "      <td>no</td>\n",
       "      <td>yes</td>\n",
       "      <td>ckd</td>\n",
       "    </tr>\n",
       "    <tr>\n",
       "      <th>3</th>\n",
       "      <td>3</td>\n",
       "      <td>48.0</td>\n",
       "      <td>70.0</td>\n",
       "      <td>1.005</td>\n",
       "      <td>4.0</td>\n",
       "      <td>0.0</td>\n",
       "      <td>normal</td>\n",
       "      <td>abnormal</td>\n",
       "      <td>present</td>\n",
       "      <td>notpresent</td>\n",
       "      <td>...</td>\n",
       "      <td>32</td>\n",
       "      <td>6700</td>\n",
       "      <td>3.9</td>\n",
       "      <td>yes</td>\n",
       "      <td>no</td>\n",
       "      <td>no</td>\n",
       "      <td>poor</td>\n",
       "      <td>yes</td>\n",
       "      <td>yes</td>\n",
       "      <td>ckd</td>\n",
       "    </tr>\n",
       "    <tr>\n",
       "      <th>4</th>\n",
       "      <td>4</td>\n",
       "      <td>51.0</td>\n",
       "      <td>80.0</td>\n",
       "      <td>1.010</td>\n",
       "      <td>2.0</td>\n",
       "      <td>0.0</td>\n",
       "      <td>normal</td>\n",
       "      <td>normal</td>\n",
       "      <td>notpresent</td>\n",
       "      <td>notpresent</td>\n",
       "      <td>...</td>\n",
       "      <td>35</td>\n",
       "      <td>7300</td>\n",
       "      <td>4.6</td>\n",
       "      <td>no</td>\n",
       "      <td>no</td>\n",
       "      <td>no</td>\n",
       "      <td>good</td>\n",
       "      <td>no</td>\n",
       "      <td>no</td>\n",
       "      <td>ckd</td>\n",
       "    </tr>\n",
       "  </tbody>\n",
       "</table>\n",
       "<p>5 rows × 26 columns</p>\n",
       "</div>"
      ],
      "text/plain": [
       "   id   age    bp     sg   al   su     rbc        pc         pcc          ba   \n",
       "0   0  48.0  80.0  1.020  1.0  0.0     NaN    normal  notpresent  notpresent  \\\n",
       "1   1   7.0  50.0  1.020  4.0  0.0     NaN    normal  notpresent  notpresent   \n",
       "2   2  62.0  80.0  1.010  2.0  3.0  normal    normal  notpresent  notpresent   \n",
       "3   3  48.0  70.0  1.005  4.0  0.0  normal  abnormal     present  notpresent   \n",
       "4   4  51.0  80.0  1.010  2.0  0.0  normal    normal  notpresent  notpresent   \n",
       "\n",
       "   ...  pcv    wc   rc  htn   dm  cad appet   pe  ane classification  \n",
       "0  ...   44  7800  5.2  yes  yes   no  good   no   no            ckd  \n",
       "1  ...   38  6000  NaN   no   no   no  good   no   no            ckd  \n",
       "2  ...   31  7500  NaN   no  yes   no  poor   no  yes            ckd  \n",
       "3  ...   32  6700  3.9  yes   no   no  poor  yes  yes            ckd  \n",
       "4  ...   35  7300  4.6   no   no   no  good   no   no            ckd  \n",
       "\n",
       "[5 rows x 26 columns]"
      ]
     },
     "execution_count": 19,
     "metadata": {},
     "output_type": "execute_result"
    }
   ],
   "source": [
    "kd.head()"
   ]
  },
  {
   "cell_type": "code",
   "execution_count": 20,
   "id": "edb37825",
   "metadata": {
    "scrolled": true
   },
   "outputs": [
    {
     "data": {
      "text/plain": [
       "Index(['id', 'age', 'bp', 'sg', 'al', 'su', 'rbc', 'pc', 'pcc', 'ba', 'bgr',\n",
       "       'bu', 'sc', 'sod', 'pot', 'hemo', 'pcv', 'wc', 'rc', 'htn', 'dm', 'cad',\n",
       "       'appet', 'pe', 'ane', 'classification'],\n",
       "      dtype='object')"
      ]
     },
     "execution_count": 20,
     "metadata": {},
     "output_type": "execute_result"
    }
   ],
   "source": [
    "kd.columns"
   ]
  },
  {
   "cell_type": "code",
   "execution_count": 21,
   "id": "4ed7d276",
   "metadata": {},
   "outputs": [
    {
     "name": "stdout",
     "output_type": "stream",
     "text": [
      "<class 'pandas.core.frame.DataFrame'>\n",
      "RangeIndex: 400 entries, 0 to 399\n",
      "Data columns (total 26 columns):\n",
      " #   Column          Non-Null Count  Dtype  \n",
      "---  ------          --------------  -----  \n",
      " 0   id              400 non-null    int64  \n",
      " 1   age             391 non-null    float64\n",
      " 2   bp              388 non-null    float64\n",
      " 3   sg              353 non-null    float64\n",
      " 4   al              354 non-null    float64\n",
      " 5   su              351 non-null    float64\n",
      " 6   rbc             248 non-null    object \n",
      " 7   pc              335 non-null    object \n",
      " 8   pcc             396 non-null    object \n",
      " 9   ba              396 non-null    object \n",
      " 10  bgr             356 non-null    float64\n",
      " 11  bu              381 non-null    float64\n",
      " 12  sc              383 non-null    float64\n",
      " 13  sod             313 non-null    float64\n",
      " 14  pot             312 non-null    float64\n",
      " 15  hemo            348 non-null    float64\n",
      " 16  pcv             330 non-null    object \n",
      " 17  wc              295 non-null    object \n",
      " 18  rc              270 non-null    object \n",
      " 19  htn             398 non-null    object \n",
      " 20  dm              398 non-null    object \n",
      " 21  cad             398 non-null    object \n",
      " 22  appet           399 non-null    object \n",
      " 23  pe              399 non-null    object \n",
      " 24  ane             399 non-null    object \n",
      " 25  classification  400 non-null    object \n",
      "dtypes: float64(11), int64(1), object(14)\n",
      "memory usage: 81.4+ KB\n"
     ]
    }
   ],
   "source": [
    "kd.info()"
   ]
  },
  {
   "cell_type": "code",
   "execution_count": 22,
   "id": "04dded0d",
   "metadata": {},
   "outputs": [
    {
     "data": {
      "text/html": [
       "<div>\n",
       "<style scoped>\n",
       "    .dataframe tbody tr th:only-of-type {\n",
       "        vertical-align: middle;\n",
       "    }\n",
       "\n",
       "    .dataframe tbody tr th {\n",
       "        vertical-align: top;\n",
       "    }\n",
       "\n",
       "    .dataframe thead th {\n",
       "        text-align: right;\n",
       "    }\n",
       "</style>\n",
       "<table border=\"1\" class=\"dataframe\">\n",
       "  <thead>\n",
       "    <tr style=\"text-align: right;\">\n",
       "      <th></th>\n",
       "      <th>id</th>\n",
       "      <th>age</th>\n",
       "      <th>bp</th>\n",
       "      <th>sg</th>\n",
       "      <th>al</th>\n",
       "      <th>su</th>\n",
       "      <th>bgr</th>\n",
       "      <th>bu</th>\n",
       "      <th>sc</th>\n",
       "      <th>sod</th>\n",
       "      <th>pot</th>\n",
       "      <th>hemo</th>\n",
       "    </tr>\n",
       "  </thead>\n",
       "  <tbody>\n",
       "    <tr>\n",
       "      <th>count</th>\n",
       "      <td>400.000000</td>\n",
       "      <td>391.000000</td>\n",
       "      <td>388.000000</td>\n",
       "      <td>353.000000</td>\n",
       "      <td>354.000000</td>\n",
       "      <td>351.000000</td>\n",
       "      <td>356.000000</td>\n",
       "      <td>381.000000</td>\n",
       "      <td>383.000000</td>\n",
       "      <td>313.000000</td>\n",
       "      <td>312.000000</td>\n",
       "      <td>348.000000</td>\n",
       "    </tr>\n",
       "    <tr>\n",
       "      <th>mean</th>\n",
       "      <td>199.500000</td>\n",
       "      <td>51.483376</td>\n",
       "      <td>76.469072</td>\n",
       "      <td>1.017408</td>\n",
       "      <td>1.016949</td>\n",
       "      <td>0.450142</td>\n",
       "      <td>148.036517</td>\n",
       "      <td>57.425722</td>\n",
       "      <td>3.072454</td>\n",
       "      <td>137.528754</td>\n",
       "      <td>4.627244</td>\n",
       "      <td>12.526437</td>\n",
       "    </tr>\n",
       "    <tr>\n",
       "      <th>std</th>\n",
       "      <td>115.614301</td>\n",
       "      <td>17.169714</td>\n",
       "      <td>13.683637</td>\n",
       "      <td>0.005717</td>\n",
       "      <td>1.352679</td>\n",
       "      <td>1.099191</td>\n",
       "      <td>79.281714</td>\n",
       "      <td>50.503006</td>\n",
       "      <td>5.741126</td>\n",
       "      <td>10.408752</td>\n",
       "      <td>3.193904</td>\n",
       "      <td>2.912587</td>\n",
       "    </tr>\n",
       "    <tr>\n",
       "      <th>min</th>\n",
       "      <td>0.000000</td>\n",
       "      <td>2.000000</td>\n",
       "      <td>50.000000</td>\n",
       "      <td>1.005000</td>\n",
       "      <td>0.000000</td>\n",
       "      <td>0.000000</td>\n",
       "      <td>22.000000</td>\n",
       "      <td>1.500000</td>\n",
       "      <td>0.400000</td>\n",
       "      <td>4.500000</td>\n",
       "      <td>2.500000</td>\n",
       "      <td>3.100000</td>\n",
       "    </tr>\n",
       "    <tr>\n",
       "      <th>25%</th>\n",
       "      <td>99.750000</td>\n",
       "      <td>42.000000</td>\n",
       "      <td>70.000000</td>\n",
       "      <td>1.010000</td>\n",
       "      <td>0.000000</td>\n",
       "      <td>0.000000</td>\n",
       "      <td>99.000000</td>\n",
       "      <td>27.000000</td>\n",
       "      <td>0.900000</td>\n",
       "      <td>135.000000</td>\n",
       "      <td>3.800000</td>\n",
       "      <td>10.300000</td>\n",
       "    </tr>\n",
       "    <tr>\n",
       "      <th>50%</th>\n",
       "      <td>199.500000</td>\n",
       "      <td>55.000000</td>\n",
       "      <td>80.000000</td>\n",
       "      <td>1.020000</td>\n",
       "      <td>0.000000</td>\n",
       "      <td>0.000000</td>\n",
       "      <td>121.000000</td>\n",
       "      <td>42.000000</td>\n",
       "      <td>1.300000</td>\n",
       "      <td>138.000000</td>\n",
       "      <td>4.400000</td>\n",
       "      <td>12.650000</td>\n",
       "    </tr>\n",
       "    <tr>\n",
       "      <th>75%</th>\n",
       "      <td>299.250000</td>\n",
       "      <td>64.500000</td>\n",
       "      <td>80.000000</td>\n",
       "      <td>1.020000</td>\n",
       "      <td>2.000000</td>\n",
       "      <td>0.000000</td>\n",
       "      <td>163.000000</td>\n",
       "      <td>66.000000</td>\n",
       "      <td>2.800000</td>\n",
       "      <td>142.000000</td>\n",
       "      <td>4.900000</td>\n",
       "      <td>15.000000</td>\n",
       "    </tr>\n",
       "    <tr>\n",
       "      <th>max</th>\n",
       "      <td>399.000000</td>\n",
       "      <td>90.000000</td>\n",
       "      <td>180.000000</td>\n",
       "      <td>1.025000</td>\n",
       "      <td>5.000000</td>\n",
       "      <td>5.000000</td>\n",
       "      <td>490.000000</td>\n",
       "      <td>391.000000</td>\n",
       "      <td>76.000000</td>\n",
       "      <td>163.000000</td>\n",
       "      <td>47.000000</td>\n",
       "      <td>17.800000</td>\n",
       "    </tr>\n",
       "  </tbody>\n",
       "</table>\n",
       "</div>"
      ],
      "text/plain": [
       "               id         age          bp          sg          al          su   \n",
       "count  400.000000  391.000000  388.000000  353.000000  354.000000  351.000000  \\\n",
       "mean   199.500000   51.483376   76.469072    1.017408    1.016949    0.450142   \n",
       "std    115.614301   17.169714   13.683637    0.005717    1.352679    1.099191   \n",
       "min      0.000000    2.000000   50.000000    1.005000    0.000000    0.000000   \n",
       "25%     99.750000   42.000000   70.000000    1.010000    0.000000    0.000000   \n",
       "50%    199.500000   55.000000   80.000000    1.020000    0.000000    0.000000   \n",
       "75%    299.250000   64.500000   80.000000    1.020000    2.000000    0.000000   \n",
       "max    399.000000   90.000000  180.000000    1.025000    5.000000    5.000000   \n",
       "\n",
       "              bgr          bu          sc         sod         pot        hemo  \n",
       "count  356.000000  381.000000  383.000000  313.000000  312.000000  348.000000  \n",
       "mean   148.036517   57.425722    3.072454  137.528754    4.627244   12.526437  \n",
       "std     79.281714   50.503006    5.741126   10.408752    3.193904    2.912587  \n",
       "min     22.000000    1.500000    0.400000    4.500000    2.500000    3.100000  \n",
       "25%     99.000000   27.000000    0.900000  135.000000    3.800000   10.300000  \n",
       "50%    121.000000   42.000000    1.300000  138.000000    4.400000   12.650000  \n",
       "75%    163.000000   66.000000    2.800000  142.000000    4.900000   15.000000  \n",
       "max    490.000000  391.000000   76.000000  163.000000   47.000000   17.800000  "
      ]
     },
     "execution_count": 22,
     "metadata": {},
     "output_type": "execute_result"
    }
   ],
   "source": [
    "kd.describe()"
   ]
  },
  {
   "cell_type": "code",
   "execution_count": 23,
   "id": "ada10b9f",
   "metadata": {},
   "outputs": [],
   "source": [
    "kd.drop('id',axis=1,inplace=True)"
   ]
  },
  {
   "cell_type": "code",
   "execution_count": 24,
   "id": "785d1f97",
   "metadata": {},
   "outputs": [
    {
     "data": {
      "text/plain": [
       "age                 9\n",
       "bp                 12\n",
       "sg                 47\n",
       "al                 46\n",
       "su                 49\n",
       "rbc               152\n",
       "pc                 65\n",
       "pcc                 4\n",
       "ba                  4\n",
       "bgr                44\n",
       "bu                 19\n",
       "sc                 17\n",
       "sod                87\n",
       "pot                88\n",
       "hemo               52\n",
       "pcv                70\n",
       "wc                105\n",
       "rc                130\n",
       "htn                 2\n",
       "dm                  2\n",
       "cad                 2\n",
       "appet               1\n",
       "pe                  1\n",
       "ane                 1\n",
       "classification      0\n",
       "dtype: int64"
      ]
     },
     "execution_count": 24,
     "metadata": {},
     "output_type": "execute_result"
    }
   ],
   "source": [
    "kd.isnull().sum()"
   ]
  },
  {
   "cell_type": "code",
   "execution_count": 25,
   "id": "1649c50b",
   "metadata": {},
   "outputs": [],
   "source": [
    "kd[['rbc','pc']] = kd[['rbc','pc']].replace(to_replace={'abnormal':1,'normal':0})\n",
    "kd[['pcc','ba']] = kd[['pcc','ba']].replace(to_replace={'present':1,'notpresent':0})"
   ]
  },
  {
   "cell_type": "code",
   "execution_count": 26,
   "id": "91a49b8b",
   "metadata": {},
   "outputs": [],
   "source": [
    "kd[['htn','dm','cad','pe','ane']]= kd[['htn','dm','cad','pe','ane']].replace(to_replace={'yes':1,'no':0})"
   ]
  },
  {
   "cell_type": "code",
   "execution_count": 27,
   "id": "aa6967fc",
   "metadata": {},
   "outputs": [],
   "source": [
    "kd[['appet']]= kd[['appet']].replace(to_replace={'good':0,'poor':1})"
   ]
  },
  {
   "cell_type": "code",
   "execution_count": 28,
   "id": "abe8b5a5",
   "metadata": {},
   "outputs": [],
   "source": [
    "kd[['classification']]= kd[['classification']].replace(to_replace={'ckd':1,'ckd\\t':1,'notckd':0})\n",
    "kd[['cad','dm']]= kd[['cad','dm']].replace(to_replace={'\\tyes':1,' yes':1,'\\tno':0})\n",
    "kd[['pcv','wc','rc']]= kd[['pcv','wc','rc']].replace(to_replace={'\\t?':np.nan})\n",
    "kd[['pcv','wc']]= kd[['pcv','wc']].replace(to_replace={'\\t43':'43','\\t6200':'6200','\\t8400':'8400'})"
   ]
  },
  {
   "cell_type": "code",
   "execution_count": 29,
   "id": "78f55855",
   "metadata": {},
   "outputs": [
    {
     "name": "stdout",
     "output_type": "stream",
     "text": [
      "********************************************************* age ******************************************************\n",
      "{2.0, 3.0, 4.0, 5.0, 6.0, 7.0, 8.0, 11.0, 12.0, 14.0, 15.0, 17.0, nan, 19.0, 21.0, 20.0, nan, 24.0, 23.0, 26.0, 27.0, 25.0, nan, 30.0, 29.0, 32.0, 33.0, 34.0, 35.0, 36.0, 37.0, 38.0, 39.0, 40.0, 41.0, 42.0, 43.0, 44.0, 45.0, 46.0, 47.0, 48.0, 49.0, 50.0, 51.0, 52.0, 53.0, 54.0, 55.0, 56.0, 57.0, 58.0, 59.0, 60.0, 61.0, 62.0, 63.0, 64.0, 65.0, 66.0, 67.0, 68.0, 69.0, 70.0, 71.0, 72.0, 73.0, 74.0, 75.0, 76.0, 78.0, 79.0, 80.0, 81.0, 82.0, 83.0, 90.0, 22.0, nan, 28.0, nan, nan, nan, nan, nan}\n",
      "\n",
      "********************************************************* bp ******************************************************\n",
      "{140.0, nan, nan, nan, nan, nan, 50.0, 180.0, 60.0, nan, 70.0, nan, 80.0, nan, 90.0, 100.0, nan, nan, 110.0, nan, nan, 120.0}\n",
      "\n",
      "********************************************************* sg ******************************************************\n",
      "{1.02, 1.005, 1.015, 1.01, 1.025, nan, nan, nan, nan, nan, nan, nan, nan, nan, nan, nan, nan, nan, nan, nan, nan, nan, nan, nan, nan, nan, nan, nan, nan, nan, nan, nan, nan, nan, nan, nan, nan, nan, nan, nan, nan, nan, nan, nan, nan, nan, nan, nan, nan, nan, nan, nan}\n",
      "\n",
      "********************************************************* al ******************************************************\n",
      "{0.0, 1.0, 2.0, 3.0, 4.0, nan, 5.0, nan, nan, nan, nan, nan, nan, nan, nan, nan, nan, nan, nan, nan, nan, nan, nan, nan, nan, nan, nan, nan, nan, nan, nan, nan, nan, nan, nan, nan, nan, nan, nan, nan, nan, nan, nan, nan, nan, nan, nan, nan, nan, nan, nan, nan}\n",
      "\n",
      "********************************************************* su ******************************************************\n",
      "{0.0, 1.0, 2.0, 3.0, 4.0, 5.0, nan, nan, nan, nan, nan, nan, nan, nan, nan, nan, nan, nan, nan, nan, nan, nan, nan, nan, nan, nan, nan, nan, nan, nan, nan, nan, nan, nan, nan, nan, nan, nan, nan, nan, nan, nan, nan, nan, nan, nan, nan, nan, nan, nan, nan, nan, nan, nan, nan}\n",
      "\n",
      "********************************************************* rbc ******************************************************\n",
      "{0.0, 1.0, nan, nan, nan, nan, nan, nan, nan, nan, nan, nan, nan, nan, nan, nan, nan, nan, nan, nan, nan, nan, nan, nan, nan, nan, nan, nan, nan, nan, nan, nan, nan, nan, nan, nan, nan, nan, nan, nan, nan, nan, nan, nan, nan, nan, nan, nan, nan, nan, nan, nan, nan, nan, nan, nan, nan, nan, nan, nan, nan, nan, nan, nan, nan, nan, nan, nan, nan, nan, nan, nan, nan, nan, nan, nan, nan, nan, nan, nan, nan, nan, nan, nan, nan, nan, nan, nan, nan, nan, nan, nan, nan, nan, nan, nan, nan, nan, nan, nan, nan, nan, nan, nan, nan, nan, nan, nan, nan, nan, nan, nan, nan, nan, nan, nan, nan, nan, nan, nan, nan, nan, nan, nan, nan, nan, nan, nan, nan, nan, nan, nan, nan, nan, nan, nan, nan, nan, nan, nan, nan, nan, nan, nan, nan, nan, nan, nan, nan, nan, nan, nan, nan, nan}\n",
      "\n",
      "********************************************************* pc ******************************************************\n",
      "{0.0, 1.0, nan, nan, nan, nan, nan, nan, nan, nan, nan, nan, nan, nan, nan, nan, nan, nan, nan, nan, nan, nan, nan, nan, nan, nan, nan, nan, nan, nan, nan, nan, nan, nan, nan, nan, nan, nan, nan, nan, nan, nan, nan, nan, nan, nan, nan, nan, nan, nan, nan, nan, nan, nan, nan, nan, nan, nan, nan, nan, nan, nan, nan, nan, nan, nan, nan}\n",
      "\n",
      "********************************************************* pcc ******************************************************\n",
      "{0.0, 1.0, nan, nan, nan, nan}\n",
      "\n",
      "********************************************************* ba ******************************************************\n",
      "{0.0, 1.0, nan, nan, nan, nan}\n",
      "\n",
      "********************************************************* bgr ******************************************************\n",
      "{nan, 103.0, nan, nan, nan, 22.0, nan, nan, nan, nan, 70.0, nan, nan, 74.0, 75.0, 76.0, 78.0, 79.0, nan, nan, 80.0, nan, 84.0, 82.0, 86.0, 81.0, 88.0, 89.0, 90.0, 91.0, 92.0, 93.0, 94.0, 95.0, 96.0, 97.0, 98.0, 99.0, 100.0, nan, 102.0, 101.0, 104.0, 105.0, 106.0, 107.0, 108.0, 109.0, 110.0, 111.0, 112.0, 113.0, 114.0, 115.0, 116.0, 117.0, 118.0, 119.0, 120.0, 121.0, 122.0, 123.0, 124.0, 125.0, 127.0, 128.0, 129.0, 130.0, 131.0, 132.0, 133.0, 134.0, 137.0, 138.0, 139.0, 140.0, 141.0, nan, 143.0, 144.0, 146.0, 148.0, 150.0, nan, 153.0, 156.0, 157.0, 158.0, 159.0, nan, 160.0, 162.0, 163.0, nan, 165.0, 169.0, 171.0, 172.0, 173.0, 176.0, nan, 182.0, 184.0, nan, 192.0, 201.0, 203.0, 204.0, 207.0, 208.0, 210.0, 213.0, 214.0, 215.0, nan, 219.0, 220.0, 224.0, 226.0, 230.0, 233.0, 234.0, 238.0, 239.0, 241.0, 242.0, 246.0, 248.0, 250.0, 251.0, 252.0, 253.0, 255.0, 256.0, 261.0, 263.0, 264.0, nan, 268.0, 269.0, 270.0, nan, 273.0, nan, 280.0, 288.0, 294.0, 295.0, nan, 298.0, 297.0, nan, 303.0, 307.0, 308.0, 309.0, nan, nan, 323.0, nan, 341.0, 352.0, 360.0, nan, nan, nan, 380.0, nan, nan, 410.0, nan, 415.0, nan, 83.0, nan, 423.0, 424.0, 425.0, 85.0, nan, 87.0, 447.0, nan, 463.0, nan, nan, nan, 490.0, nan, nan}\n",
      "\n",
      "********************************************************* bu ******************************************************\n",
      "{1.5, 10.0, 15.0, 16.0, 17.0, 18.0, 19.0, 20.0, 21.0, 22.0, 23.0, 24.0, 25.0, 26.0, 27.0, 28.0, 29.0, 30.0, 31.0, 32.0, 33.0, 34.0, 35.0, 36.0, 37.0, 38.0, 39.0, 40.0, 41.0, 42.0, 44.0, 45.0, 46.0, 47.0, 48.0, 49.0, 50.0, 51.0, 52.0, 53.0, 54.0, 55.0, 56.0, 50.1, 58.0, 57.0, 60.0, 61.0, 64.0, 65.0, 66.0, 67.0, 68.0, 70.0, 71.0, 72.0, 73.0, 74.0, 75.0, 76.0, 77.0, 79.0, 80.0, 82.0, 85.0, 86.0, 87.0, 88.0, 89.0, 90.0, 92.0, 93.0, 94.0, 95.0, 96.0, 98.0, 98.6, 103.0, 106.0, 107.0, 111.0, 113.0, 114.0, 115.0, nan, nan, 118.0, 125.0, nan, 132.0, 133.0, 137.0, 139.0, 142.0, 145.0, 146.0, 148.0, 150.0, 153.0, 155.0, 158.0, 162.0, 163.0, 164.0, 165.0, 166.0, 176.0, 180.0, 186.0, 191.0, 202.0, nan, nan, 208.0, nan, 215.0, 217.0, 219.0, 223.0, 235.0, 241.0, nan, nan, nan, nan, 309.0, nan, 322.0, nan, nan, nan, 391.0, nan, nan, nan, nan, nan}\n",
      "\n",
      "********************************************************* sc ******************************************************\n",
      "{0.8, 1.2, 1.4, 3.8, 1.8, 1.1, 1.9, 7.2, 4.0, 2.7, 2.1, 4.6, 4.1, 9.6, 5.2, 7.7, 7.3, 2.5, 2.0, 10.8, 3.0, 3.25, 15.0, 14.2, 24.0, nan, 18.0, 18.1, 1.5, 1.0, 32.0, 6.5, 0.5, 6.0, 7.5, 8.5, nan, 48.1, nan, 11.5, 12.0, 13.0, 13.5, 76.0, 16.9, 16.4, nan, 2.4, 2.9, 3.9, 3.4, nan, nan, 4.4, 5.9, 6.4, 11.9, 13.4, 2.8, 2.3, 3.3, 4.3, 1.3, 5.3, nan, 6.3, 6.8, nan, 0.6, 0.9, nan, 0.4, nan, 9.7, 9.2, 9.3, 0.7, 10.2, nan, 1.7, 11.8, 12.2, 12.8, 13.8, 13.3, 2.2, 15.2, 3.2, 6.7, 5.6, 6.1, 7.1, 1.6, 2.6, 3.6, nan, nan, nan, nan, nan, nan}\n",
      "\n",
      "********************************************************* sod ******************************************************\n",
      "{4.5, nan, nan, nan, nan, nan, nan, nan, nan, nan, nan, nan, nan, nan, nan, 104.0, nan, nan, 111.0, nan, nan, 114.0, 115.0, 113.0, nan, 120.0, nan, 122.0, 124.0, 125.0, 126.0, 127.0, 128.0, 129.0, 130.0, 131.0, 132.0, 133.0, 134.0, 135.0, 136.0, 137.0, 138.0, 139.0, 140.0, nan, 142.0, 141.0, 143.0, 145.0, 146.0, 147.0, 144.0, 150.0, 163.0, nan, nan, nan, nan, nan, nan, nan, nan, nan, nan, nan, nan, nan, nan, nan, nan, nan, nan, nan, nan, nan, nan, nan, nan, nan, nan, nan, nan, nan, nan, nan, nan, nan, nan, nan, nan, nan, nan, nan, nan, nan, nan, nan, nan, nan, nan, nan, nan, nan, nan, nan, nan, nan, nan, nan, nan, nan, nan, nan, nan, nan, nan, nan, nan, nan, nan}\n",
      "\n",
      "********************************************************* pot ******************************************************\n",
      "{2.5, 3.2, 4.0, 3.7, 4.2, 5.8, 6.4, 3.4, 4.9, 4.1, 4.3, 5.2, 5.9, 6.6, 3.5, 3.0, nan, 4.5, nan, nan, 5.5, nan, 5.0, nan, nan, nan, 6.5, nan, nan, 39.0, nan, nan, nan, nan, 47.0, nan, nan, nan, nan, nan, nan, nan, nan, nan, nan, nan, nan, nan, nan, nan, 2.9, nan, 3.9, nan, nan, nan, nan, 4.4, 5.4, nan, 2.8, nan, nan, nan, 3.8, 3.3, 4.8, 5.3, 6.3, nan, nan, nan, nan, nan, nan, nan, nan, nan, nan, nan, nan, nan, nan, nan, 2.7, nan, nan, 4.7, 5.7, nan, nan, nan, nan, nan, nan, nan, nan, nan, 4.6, nan, 5.1, 5.6, nan, nan, 7.6, nan, nan, nan, nan, 3.6, nan, nan, nan, nan, nan, nan, nan, nan, nan, nan, nan, nan, nan, nan, nan, nan, nan, nan}\n",
      "\n",
      "********************************************************* hemo ******************************************************\n",
      "{nan, 4.8, 5.6, 6.6, 7.6, 7.7, 9.6, 10.8, 11.2, 11.3, 11.6, 12.2, 15.4, 12.4, 9.5, 9.4, 12.6, 12.1, 12.7, 13.0, 15.0, 15.6, 16.1, 5.5, nan, 6.0, nan, 7.5, 8.0, 8.5, 9.0, nan, 10.0, 10.5, 11.0, 11.5, 12.5, 12.0, 13.5, 14.0, 14.5, 15.5, 16.5, 16.4, 16.9, 16.0, nan, 17.0, 16.6, 17.1, nan, nan, 17.4, 17.5, 17.6, nan, nan, nan, nan, nan, nan, nan, 7.9, nan, 8.4, 9.9, 10.4, 10.9, 13.3, 11.9, 11.4, 12.9, 13.9, 13.4, 14.4, 14.9, 15.9, nan, 5.8, 6.8, 6.3, 7.3, nan, nan, nan, nan, 8.3, 8.2, 8.7, nan, 8.8, 9.7, 9.8, 9.3, 9.2, nan, 10.3, 10.2, 10.7, 11.8, 11.7, nan, nan, 12.3, 12.8, nan, 13.2, 13.8, 13.7, nan, nan, nan, 14.3, 14.2, 14.8, nan, 15.2, nan, 15.7, 14.7, 15.8, 16.2, 16.3, 16.7, 16.8, 15.3, 17.2, 17.3, 17.7, 17.8, nan, 6.2, nan, nan, nan, nan, nan, nan, nan, nan, 6.1, nan, nan, 7.1, nan, nan, 8.6, 8.1, 9.1, nan, 3.1, 10.1, nan, 10.6, nan, 11.1, nan, nan, 13.6, 13.1, 14.1, 14.6, nan, 15.1, nan, nan, nan}\n",
      "\n",
      "********************************************************* pcv ******************************************************\n",
      "{'50', '35', '40', '26', '47', '20', '22', '46', '18', '41', '27', '42', '45', '9', '43', '53', '30', '48', '49', '39', '19', nan, '37', '38', '17', '33', '36', '24', '25', '54', '34', '52', '44', '51', '32', '15', '21', '23', '28', '16', '31', '14', '29'}\n",
      "\n",
      "********************************************************* wc ******************************************************\n",
      "{'4700', '26400', '5100', '5300', '11900', '5800', '9500', '10200', '5000', '15700', '6200', '6400', '7000', '4900', '4200', nan, '6300', '14900', '18900', '15200', '5400', '10700', '9100', '7800', '11000', '6500', '12400', '8800', '10800', '11400', '8400', '4500', '7100', '9300', '6900', '7200', '8000', '21600', '16300', '10900', '5900', '5600', '7300', '6800', '5500', '8500', '12200', '13600', '7400', '7700', '10400', '9400', '8100', '11200', '4100', '8200', '10500', '9800', '5700', '8600', '9600', '16700', '6700', '6000', '3800', '12300', '9700', '5200', '2200', '11300', '13200', '12700', '9200', '2600', '9900', '12000', '10300', '19100', '9000', '12100', '14600', '7900', '6600', '12500', '11500', '11800', '12800', '4300', '7500', '8300'}\n",
      "\n",
      "********************************************************* rc ******************************************************\n",
      "{'5', '6.0', '5.2', '5.8', '6.5', '8.0', '3.7', '3.5', '5.1', '5.4', '5.6', '4.6', '3.3', '5.3', '4.0', '2.6', '2.7', '4.2', '5.0', '4.1', '6.1', '5.5', nan, '4', '5.9', '3.4', '3.1', '2.1', '3.8', '5.7', '2.5', '3.2', '4.9', '4.8', '3.9', '2.3', '4.7', '6.4', '3.0', '2.4', '6.3', '4.4', '2.8', '4.3', '3', '4.5', '6.2', '3.6', '2.9'}\n",
      "\n",
      "********************************************************* htn ******************************************************\n",
      "{0.0, 1.0, nan, nan}\n",
      "\n",
      "********************************************************* dm ******************************************************\n",
      "{0.0, 1.0, nan, nan}\n",
      "\n",
      "********************************************************* cad ******************************************************\n",
      "{0.0, 1.0, nan, nan}\n",
      "\n",
      "********************************************************* appet ******************************************************\n",
      "{0.0, 1.0, nan}\n",
      "\n",
      "********************************************************* pe ******************************************************\n",
      "{0.0, 1.0, nan}\n",
      "\n",
      "********************************************************* ane ******************************************************\n",
      "{0.0, 1.0, nan}\n",
      "\n",
      "********************************************************* classification ******************************************************\n",
      "{0, 1}\n",
      "\n"
     ]
    }
   ],
   "source": [
    "for i in kd.columns:\n",
    "    print(\"*********************************************************\",i,\"******************************************************\")\n",
    "    print(set(kd[i].tolist()))\n",
    "    print()"
   ]
  },
  {
   "cell_type": "code",
   "execution_count": 30,
   "id": "9cc61892",
   "metadata": {},
   "outputs": [
    {
     "data": {
      "text/plain": [
       "0"
      ]
     },
     "execution_count": 30,
     "metadata": {},
     "output_type": "execute_result"
    }
   ],
   "source": [
    "kd['age'].fillna(method='bfill',inplace=True)\n",
    "kd.age.isnull().sum()"
   ]
  },
  {
   "cell_type": "code",
   "execution_count": 31,
   "id": "3d62a746",
   "metadata": {},
   "outputs": [],
   "source": [
    "kd['bp'].fillna(method='bfill',inplace=True)\n",
    "kd['sg'].fillna(method='bfill',inplace=True)\n",
    "kd['al'].fillna(method='bfill',inplace=True)\n",
    "kd['su'].fillna(method='bfill',inplace=True)\n",
    "kd['bgr'].fillna(method='bfill',inplace=True)\n",
    "kd['bu'].fillna(method='bfill',inplace=True)\n",
    "kd['sc'].fillna(method='bfill',inplace=True)\n",
    "kd['sod'].fillna(method='bfill',inplace=True)\n",
    "kd['pot'].fillna(method='bfill',inplace=True)\n",
    "kd['hemo'].fillna(method='bfill',inplace=True)\n",
    "kd['pcv'].fillna(method='bfill',inplace=True)\n",
    "kd['wc'].fillna(method='bfill',inplace=True)\n",
    "kd['rc'].fillna(method='bfill',inplace=True)"
   ]
  },
  {
   "cell_type": "code",
   "execution_count": 32,
   "id": "10c4391d",
   "metadata": {},
   "outputs": [
    {
     "data": {
      "text/plain": [
       "age                 0\n",
       "bp                  0\n",
       "sg                  0\n",
       "al                  0\n",
       "su                  0\n",
       "rbc               152\n",
       "pc                 65\n",
       "pcc                 4\n",
       "ba                  4\n",
       "bgr                 0\n",
       "bu                  0\n",
       "sc                  0\n",
       "sod                 0\n",
       "pot                 0\n",
       "hemo                0\n",
       "pcv                 0\n",
       "wc                  0\n",
       "rc                  0\n",
       "htn                 2\n",
       "dm                  2\n",
       "cad                 2\n",
       "appet               1\n",
       "pe                  1\n",
       "ane                 1\n",
       "classification      0\n",
       "dtype: int64"
      ]
     },
     "execution_count": 32,
     "metadata": {},
     "output_type": "execute_result"
    }
   ],
   "source": [
    "kd.isnull().sum()"
   ]
  },
  {
   "cell_type": "code",
   "execution_count": 33,
   "id": "bd15934a",
   "metadata": {},
   "outputs": [
    {
     "data": {
      "text/html": [
       "<div>\n",
       "<style scoped>\n",
       "    .dataframe tbody tr th:only-of-type {\n",
       "        vertical-align: middle;\n",
       "    }\n",
       "\n",
       "    .dataframe tbody tr th {\n",
       "        vertical-align: top;\n",
       "    }\n",
       "\n",
       "    .dataframe thead th {\n",
       "        text-align: right;\n",
       "    }\n",
       "</style>\n",
       "<table border=\"1\" class=\"dataframe\">\n",
       "  <thead>\n",
       "    <tr style=\"text-align: right;\">\n",
       "      <th></th>\n",
       "      <th>age</th>\n",
       "      <th>bp</th>\n",
       "      <th>sg</th>\n",
       "      <th>al</th>\n",
       "      <th>su</th>\n",
       "      <th>rbc</th>\n",
       "      <th>pc</th>\n",
       "      <th>pcc</th>\n",
       "      <th>ba</th>\n",
       "      <th>bgr</th>\n",
       "      <th>...</th>\n",
       "      <th>pcv</th>\n",
       "      <th>wc</th>\n",
       "      <th>rc</th>\n",
       "      <th>htn</th>\n",
       "      <th>dm</th>\n",
       "      <th>cad</th>\n",
       "      <th>appet</th>\n",
       "      <th>pe</th>\n",
       "      <th>ane</th>\n",
       "      <th>classification</th>\n",
       "    </tr>\n",
       "  </thead>\n",
       "  <tbody>\n",
       "    <tr>\n",
       "      <th>0</th>\n",
       "      <td>48.0</td>\n",
       "      <td>80.0</td>\n",
       "      <td>1.020</td>\n",
       "      <td>1.0</td>\n",
       "      <td>0.0</td>\n",
       "      <td>0.142857</td>\n",
       "      <td>0.0</td>\n",
       "      <td>0.0</td>\n",
       "      <td>0.0</td>\n",
       "      <td>121.0</td>\n",
       "      <td>...</td>\n",
       "      <td>44.0</td>\n",
       "      <td>7800.0</td>\n",
       "      <td>5.2</td>\n",
       "      <td>1.0</td>\n",
       "      <td>1.0</td>\n",
       "      <td>0.0</td>\n",
       "      <td>0.0</td>\n",
       "      <td>0.0</td>\n",
       "      <td>0.0</td>\n",
       "      <td>1.0</td>\n",
       "    </tr>\n",
       "    <tr>\n",
       "      <th>1</th>\n",
       "      <td>7.0</td>\n",
       "      <td>50.0</td>\n",
       "      <td>1.020</td>\n",
       "      <td>4.0</td>\n",
       "      <td>0.0</td>\n",
       "      <td>0.000000</td>\n",
       "      <td>0.0</td>\n",
       "      <td>0.0</td>\n",
       "      <td>0.0</td>\n",
       "      <td>423.0</td>\n",
       "      <td>...</td>\n",
       "      <td>38.0</td>\n",
       "      <td>6000.0</td>\n",
       "      <td>3.9</td>\n",
       "      <td>0.0</td>\n",
       "      <td>0.0</td>\n",
       "      <td>0.0</td>\n",
       "      <td>0.0</td>\n",
       "      <td>0.0</td>\n",
       "      <td>0.0</td>\n",
       "      <td>1.0</td>\n",
       "    </tr>\n",
       "    <tr>\n",
       "      <th>2</th>\n",
       "      <td>62.0</td>\n",
       "      <td>80.0</td>\n",
       "      <td>1.010</td>\n",
       "      <td>2.0</td>\n",
       "      <td>3.0</td>\n",
       "      <td>0.000000</td>\n",
       "      <td>0.0</td>\n",
       "      <td>0.0</td>\n",
       "      <td>0.0</td>\n",
       "      <td>423.0</td>\n",
       "      <td>...</td>\n",
       "      <td>31.0</td>\n",
       "      <td>7500.0</td>\n",
       "      <td>3.9</td>\n",
       "      <td>0.0</td>\n",
       "      <td>1.0</td>\n",
       "      <td>0.0</td>\n",
       "      <td>1.0</td>\n",
       "      <td>0.0</td>\n",
       "      <td>1.0</td>\n",
       "      <td>1.0</td>\n",
       "    </tr>\n",
       "    <tr>\n",
       "      <th>3</th>\n",
       "      <td>48.0</td>\n",
       "      <td>70.0</td>\n",
       "      <td>1.005</td>\n",
       "      <td>4.0</td>\n",
       "      <td>0.0</td>\n",
       "      <td>0.000000</td>\n",
       "      <td>1.0</td>\n",
       "      <td>1.0</td>\n",
       "      <td>0.0</td>\n",
       "      <td>117.0</td>\n",
       "      <td>...</td>\n",
       "      <td>32.0</td>\n",
       "      <td>6700.0</td>\n",
       "      <td>3.9</td>\n",
       "      <td>1.0</td>\n",
       "      <td>0.0</td>\n",
       "      <td>0.0</td>\n",
       "      <td>1.0</td>\n",
       "      <td>1.0</td>\n",
       "      <td>1.0</td>\n",
       "      <td>1.0</td>\n",
       "    </tr>\n",
       "    <tr>\n",
       "      <th>4</th>\n",
       "      <td>51.0</td>\n",
       "      <td>80.0</td>\n",
       "      <td>1.010</td>\n",
       "      <td>2.0</td>\n",
       "      <td>0.0</td>\n",
       "      <td>0.000000</td>\n",
       "      <td>0.0</td>\n",
       "      <td>0.0</td>\n",
       "      <td>0.0</td>\n",
       "      <td>106.0</td>\n",
       "      <td>...</td>\n",
       "      <td>35.0</td>\n",
       "      <td>7300.0</td>\n",
       "      <td>4.6</td>\n",
       "      <td>0.0</td>\n",
       "      <td>0.0</td>\n",
       "      <td>0.0</td>\n",
       "      <td>0.0</td>\n",
       "      <td>0.0</td>\n",
       "      <td>0.0</td>\n",
       "      <td>1.0</td>\n",
       "    </tr>\n",
       "    <tr>\n",
       "      <th>...</th>\n",
       "      <td>...</td>\n",
       "      <td>...</td>\n",
       "      <td>...</td>\n",
       "      <td>...</td>\n",
       "      <td>...</td>\n",
       "      <td>...</td>\n",
       "      <td>...</td>\n",
       "      <td>...</td>\n",
       "      <td>...</td>\n",
       "      <td>...</td>\n",
       "      <td>...</td>\n",
       "      <td>...</td>\n",
       "      <td>...</td>\n",
       "      <td>...</td>\n",
       "      <td>...</td>\n",
       "      <td>...</td>\n",
       "      <td>...</td>\n",
       "      <td>...</td>\n",
       "      <td>...</td>\n",
       "      <td>...</td>\n",
       "      <td>...</td>\n",
       "    </tr>\n",
       "    <tr>\n",
       "      <th>395</th>\n",
       "      <td>55.0</td>\n",
       "      <td>80.0</td>\n",
       "      <td>1.020</td>\n",
       "      <td>0.0</td>\n",
       "      <td>0.0</td>\n",
       "      <td>0.000000</td>\n",
       "      <td>0.0</td>\n",
       "      <td>0.0</td>\n",
       "      <td>0.0</td>\n",
       "      <td>140.0</td>\n",
       "      <td>...</td>\n",
       "      <td>47.0</td>\n",
       "      <td>6700.0</td>\n",
       "      <td>4.9</td>\n",
       "      <td>0.0</td>\n",
       "      <td>0.0</td>\n",
       "      <td>0.0</td>\n",
       "      <td>0.0</td>\n",
       "      <td>0.0</td>\n",
       "      <td>0.0</td>\n",
       "      <td>0.0</td>\n",
       "    </tr>\n",
       "    <tr>\n",
       "      <th>396</th>\n",
       "      <td>42.0</td>\n",
       "      <td>70.0</td>\n",
       "      <td>1.025</td>\n",
       "      <td>0.0</td>\n",
       "      <td>0.0</td>\n",
       "      <td>0.000000</td>\n",
       "      <td>0.0</td>\n",
       "      <td>0.0</td>\n",
       "      <td>0.0</td>\n",
       "      <td>75.0</td>\n",
       "      <td>...</td>\n",
       "      <td>54.0</td>\n",
       "      <td>7800.0</td>\n",
       "      <td>6.2</td>\n",
       "      <td>0.0</td>\n",
       "      <td>0.0</td>\n",
       "      <td>0.0</td>\n",
       "      <td>0.0</td>\n",
       "      <td>0.0</td>\n",
       "      <td>0.0</td>\n",
       "      <td>0.0</td>\n",
       "    </tr>\n",
       "    <tr>\n",
       "      <th>397</th>\n",
       "      <td>12.0</td>\n",
       "      <td>80.0</td>\n",
       "      <td>1.020</td>\n",
       "      <td>0.0</td>\n",
       "      <td>0.0</td>\n",
       "      <td>0.000000</td>\n",
       "      <td>0.0</td>\n",
       "      <td>0.0</td>\n",
       "      <td>0.0</td>\n",
       "      <td>100.0</td>\n",
       "      <td>...</td>\n",
       "      <td>49.0</td>\n",
       "      <td>6600.0</td>\n",
       "      <td>5.4</td>\n",
       "      <td>0.0</td>\n",
       "      <td>0.0</td>\n",
       "      <td>0.0</td>\n",
       "      <td>0.0</td>\n",
       "      <td>0.0</td>\n",
       "      <td>0.0</td>\n",
       "      <td>0.0</td>\n",
       "    </tr>\n",
       "    <tr>\n",
       "      <th>398</th>\n",
       "      <td>17.0</td>\n",
       "      <td>60.0</td>\n",
       "      <td>1.025</td>\n",
       "      <td>0.0</td>\n",
       "      <td>0.0</td>\n",
       "      <td>0.000000</td>\n",
       "      <td>0.0</td>\n",
       "      <td>0.0</td>\n",
       "      <td>0.0</td>\n",
       "      <td>114.0</td>\n",
       "      <td>...</td>\n",
       "      <td>51.0</td>\n",
       "      <td>7200.0</td>\n",
       "      <td>5.9</td>\n",
       "      <td>0.0</td>\n",
       "      <td>0.0</td>\n",
       "      <td>0.0</td>\n",
       "      <td>0.0</td>\n",
       "      <td>0.0</td>\n",
       "      <td>0.0</td>\n",
       "      <td>0.0</td>\n",
       "    </tr>\n",
       "    <tr>\n",
       "      <th>399</th>\n",
       "      <td>58.0</td>\n",
       "      <td>80.0</td>\n",
       "      <td>1.025</td>\n",
       "      <td>0.0</td>\n",
       "      <td>0.0</td>\n",
       "      <td>0.000000</td>\n",
       "      <td>0.0</td>\n",
       "      <td>0.0</td>\n",
       "      <td>0.0</td>\n",
       "      <td>131.0</td>\n",
       "      <td>...</td>\n",
       "      <td>53.0</td>\n",
       "      <td>6800.0</td>\n",
       "      <td>6.1</td>\n",
       "      <td>0.0</td>\n",
       "      <td>0.0</td>\n",
       "      <td>0.0</td>\n",
       "      <td>0.0</td>\n",
       "      <td>0.0</td>\n",
       "      <td>0.0</td>\n",
       "      <td>0.0</td>\n",
       "    </tr>\n",
       "  </tbody>\n",
       "</table>\n",
       "<p>400 rows × 25 columns</p>\n",
       "</div>"
      ],
      "text/plain": [
       "      age    bp     sg   al   su       rbc   pc  pcc   ba    bgr  ...   pcv   \n",
       "0    48.0  80.0  1.020  1.0  0.0  0.142857  0.0  0.0  0.0  121.0  ...  44.0  \\\n",
       "1     7.0  50.0  1.020  4.0  0.0  0.000000  0.0  0.0  0.0  423.0  ...  38.0   \n",
       "2    62.0  80.0  1.010  2.0  3.0  0.000000  0.0  0.0  0.0  423.0  ...  31.0   \n",
       "3    48.0  70.0  1.005  4.0  0.0  0.000000  1.0  1.0  0.0  117.0  ...  32.0   \n",
       "4    51.0  80.0  1.010  2.0  0.0  0.000000  0.0  0.0  0.0  106.0  ...  35.0   \n",
       "..    ...   ...    ...  ...  ...       ...  ...  ...  ...    ...  ...   ...   \n",
       "395  55.0  80.0  1.020  0.0  0.0  0.000000  0.0  0.0  0.0  140.0  ...  47.0   \n",
       "396  42.0  70.0  1.025  0.0  0.0  0.000000  0.0  0.0  0.0   75.0  ...  54.0   \n",
       "397  12.0  80.0  1.020  0.0  0.0  0.000000  0.0  0.0  0.0  100.0  ...  49.0   \n",
       "398  17.0  60.0  1.025  0.0  0.0  0.000000  0.0  0.0  0.0  114.0  ...  51.0   \n",
       "399  58.0  80.0  1.025  0.0  0.0  0.000000  0.0  0.0  0.0  131.0  ...  53.0   \n",
       "\n",
       "         wc   rc  htn   dm  cad  appet   pe  ane  classification  \n",
       "0    7800.0  5.2  1.0  1.0  0.0    0.0  0.0  0.0             1.0  \n",
       "1    6000.0  3.9  0.0  0.0  0.0    0.0  0.0  0.0             1.0  \n",
       "2    7500.0  3.9  0.0  1.0  0.0    1.0  0.0  1.0             1.0  \n",
       "3    6700.0  3.9  1.0  0.0  0.0    1.0  1.0  1.0             1.0  \n",
       "4    7300.0  4.6  0.0  0.0  0.0    0.0  0.0  0.0             1.0  \n",
       "..      ...  ...  ...  ...  ...    ...  ...  ...             ...  \n",
       "395  6700.0  4.9  0.0  0.0  0.0    0.0  0.0  0.0             0.0  \n",
       "396  7800.0  6.2  0.0  0.0  0.0    0.0  0.0  0.0             0.0  \n",
       "397  6600.0  5.4  0.0  0.0  0.0    0.0  0.0  0.0             0.0  \n",
       "398  7200.0  5.9  0.0  0.0  0.0    0.0  0.0  0.0             0.0  \n",
       "399  6800.0  6.1  0.0  0.0  0.0    0.0  0.0  0.0             0.0  \n",
       "\n",
       "[400 rows x 25 columns]"
      ]
     },
     "execution_count": 33,
     "metadata": {},
     "output_type": "execute_result"
    }
   ],
   "source": [
    "k_imp = KNNImputer(n_neighbors = 7)\n",
    "kd1=pd.DataFrame(k_imp.fit_transform(kd))\n",
    "kd1.columns=kd.columns\n",
    "kd1"
   ]
  },
  {
   "cell_type": "code",
   "execution_count": 34,
   "id": "f22b342f",
   "metadata": {},
   "outputs": [
    {
     "data": {
      "text/plain": [
       "age               0\n",
       "bp                0\n",
       "sg                0\n",
       "al                0\n",
       "su                0\n",
       "rbc               0\n",
       "pc                0\n",
       "pcc               0\n",
       "ba                0\n",
       "bgr               0\n",
       "bu                0\n",
       "sc                0\n",
       "sod               0\n",
       "pot               0\n",
       "hemo              0\n",
       "pcv               0\n",
       "wc                0\n",
       "rc                0\n",
       "htn               0\n",
       "dm                0\n",
       "cad               0\n",
       "appet             0\n",
       "pe                0\n",
       "ane               0\n",
       "classification    0\n",
       "dtype: int64"
      ]
     },
     "execution_count": 34,
     "metadata": {},
     "output_type": "execute_result"
    }
   ],
   "source": [
    "kd1.isnull().sum()"
   ]
  },
  {
   "cell_type": "code",
   "execution_count": 35,
   "id": "f58d8beb",
   "metadata": {},
   "outputs": [],
   "source": [
    "def extract_cat_num(kd1):\n",
    "    cat_col=[col for col in kd1.columns if kd1[col].dtype=='O']\n",
    "    num_col=[col for col in kd1.columns if kd1[col].dtype!='O']\n",
    "    return cat_col,num_col"
   ]
  },
  {
   "cell_type": "code",
   "execution_count": 36,
   "id": "e2932add",
   "metadata": {},
   "outputs": [],
   "source": [
    "cat_col,num_col=extract_cat_num(kd1)"
   ]
  },
  {
   "cell_type": "code",
   "execution_count": 37,
   "id": "48332619",
   "metadata": {
    "scrolled": true
   },
   "outputs": [
    {
     "data": {
      "text/plain": [
       "[]"
      ]
     },
     "execution_count": 37,
     "metadata": {},
     "output_type": "execute_result"
    }
   ],
   "source": [
    "cat_col"
   ]
  },
  {
   "cell_type": "code",
   "execution_count": 38,
   "id": "b27de595",
   "metadata": {},
   "outputs": [
    {
     "data": {
      "text/plain": [
       "['age',\n",
       " 'bp',\n",
       " 'sg',\n",
       " 'al',\n",
       " 'su',\n",
       " 'rbc',\n",
       " 'pc',\n",
       " 'pcc',\n",
       " 'ba',\n",
       " 'bgr',\n",
       " 'bu',\n",
       " 'sc',\n",
       " 'sod',\n",
       " 'pot',\n",
       " 'hemo',\n",
       " 'pcv',\n",
       " 'wc',\n",
       " 'rc',\n",
       " 'htn',\n",
       " 'dm',\n",
       " 'cad',\n",
       " 'appet',\n",
       " 'pe',\n",
       " 'ane',\n",
       " 'classification']"
      ]
     },
     "execution_count": 38,
     "metadata": {},
     "output_type": "execute_result"
    }
   ],
   "source": [
    "num_col"
   ]
  },
  {
   "cell_type": "code",
   "execution_count": 39,
   "id": "1911cade",
   "metadata": {},
   "outputs": [
    {
     "data": {
      "image/png": "[encoded data removed]",
      "text/plain": [
       "<Figure size 3000x3000 with 25 Axes>"
      ]
     },
     "metadata": {},
     "output_type": "display_data"
    }
   ],
   "source": [
    "plt.figure(figsize=(30,30))\n",
    "for i,feature in enumerate(num_col):\n",
    "    plt.subplot(6,5,i+1)   # 5 rows and 3 columns        \n",
    "    kd1[feature].hist()\n",
    "    plt.title(feature)"
   ]
  },
  {
   "cell_type": "markdown",
   "id": "c95edf03",
   "metadata": {},
   "source": [
    "# Dataset Split"
   ]
  },
  {
   "cell_type": "code",
   "execution_count": 40,
   "id": "61d52f0e",
   "metadata": {},
   "outputs": [
    {
     "name": "stdout",
     "output_type": "stream",
     "text": [
      "      age    bp     sg   al   su       rbc   pc  pcc   ba    bgr  ...  hemo   \n",
      "0    48.0  80.0  1.020  1.0  0.0  0.142857  0.0  0.0  0.0  121.0  ...  15.4  \\\n",
      "1     7.0  50.0  1.020  4.0  0.0  0.000000  0.0  0.0  0.0  423.0  ...  11.3   \n",
      "2    62.0  80.0  1.010  2.0  3.0  0.000000  0.0  0.0  0.0  423.0  ...   9.6   \n",
      "3    48.0  70.0  1.005  4.0  0.0  0.000000  1.0  1.0  0.0  117.0  ...  11.2   \n",
      "4    51.0  80.0  1.010  2.0  0.0  0.000000  0.0  0.0  0.0  106.0  ...  11.6   \n",
      "..    ...   ...    ...  ...  ...       ...  ...  ...  ...    ...  ...   ...   \n",
      "395  55.0  80.0  1.020  0.0  0.0  0.000000  0.0  0.0  0.0  140.0  ...  15.7   \n",
      "396  42.0  70.0  1.025  0.0  0.0  0.000000  0.0  0.0  0.0   75.0  ...  16.5   \n",
      "397  12.0  80.0  1.020  0.0  0.0  0.000000  0.0  0.0  0.0  100.0  ...  15.8   \n",
      "398  17.0  60.0  1.025  0.0  0.0  0.000000  0.0  0.0  0.0  114.0  ...  14.2   \n",
      "399  58.0  80.0  1.025  0.0  0.0  0.000000  0.0  0.0  0.0  131.0  ...  15.8   \n",
      "\n",
      "      pcv      wc   rc  htn   dm  cad  appet   pe  ane  \n",
      "0    44.0  7800.0  5.2  1.0  1.0  0.0    0.0  0.0  0.0  \n",
      "1    38.0  6000.0  3.9  0.0  0.0  0.0    0.0  0.0  0.0  \n",
      "2    31.0  7500.0  3.9  0.0  1.0  0.0    1.0  0.0  1.0  \n",
      "3    32.0  6700.0  3.9  1.0  0.0  0.0    1.0  1.0  1.0  \n",
      "4    35.0  7300.0  4.6  0.0  0.0  0.0    0.0  0.0  0.0  \n",
      "..    ...     ...  ...  ...  ...  ...    ...  ...  ...  \n",
      "395  47.0  6700.0  4.9  0.0  0.0  0.0    0.0  0.0  0.0  \n",
      "396  54.0  7800.0  6.2  0.0  0.0  0.0    0.0  0.0  0.0  \n",
      "397  49.0  6600.0  5.4  0.0  0.0  0.0    0.0  0.0  0.0  \n",
      "398  51.0  7200.0  5.9  0.0  0.0  0.0    0.0  0.0  0.0  \n",
      "399  53.0  6800.0  6.1  0.0  0.0  0.0    0.0  0.0  0.0  \n",
      "\n",
      "[400 rows x 24 columns]\n",
      "0      1.0\n",
      "1      1.0\n",
      "2      1.0\n",
      "3      1.0\n",
      "4      1.0\n",
      "      ... \n",
      "395    0.0\n",
      "396    0.0\n",
      "397    0.0\n",
      "398    0.0\n",
      "399    0.0\n",
      "Name: classification, Length: 400, dtype: float64\n"
     ]
    }
   ],
   "source": [
    "x= kd1.drop('classification',axis=1)\n",
    "y= kd1['classification']\n",
    "print(x)\n",
    "print(y)"
   ]
  },
  {
   "cell_type": "code",
   "execution_count": 41,
   "id": "03ed60b1",
   "metadata": {},
   "outputs": [
    {
     "data": {
      "text/plain": [
       "array([[-0.20960108,  0.26607803,  0.496345  , ..., -0.50970976,\n",
       "        -0.4843221 , -0.42210216],\n",
       "       [-2.61006042, -1.92086469,  0.496345  , ..., -0.50970976,\n",
       "        -0.4843221 , -0.42210216],\n",
       "       [ 0.61006796,  0.26607803, -1.26062845, ...,  1.96804604,\n",
       "        -0.4843221 ,  2.37857568],\n",
       "       ...,\n",
       "       [-2.31732147,  0.26607803,  0.496345  , ..., -0.50970976,\n",
       "        -0.4843221 , -0.42210216],\n",
       "       [-2.02458253, -1.19188378,  1.37483172, ..., -0.50970976,\n",
       "        -0.4843221 , -0.42210216],\n",
       "       [ 0.3758768 ,  0.26607803,  1.37483172, ..., -0.50970976,\n",
       "        -0.4843221 , -0.42210216]])"
      ]
     },
     "execution_count": 41,
     "metadata": {},
     "output_type": "execute_result"
    }
   ],
   "source": [
    "sc = StandardScaler()\n",
    "x = sc.fit_transform(x)\n",
    "x"
   ]
  },
  {
   "cell_type": "code",
   "execution_count": 42,
   "id": "72246f64",
   "metadata": {},
   "outputs": [
    {
     "data": {
      "text/plain": [
       "<Axes: ylabel='count'>"
      ]
     },
     "execution_count": 42,
     "metadata": {},
     "output_type": "execute_result"
    },
    {
     "data": {
      "image/png": "[encoded data removed]",
      "text/plain": [
       "<Figure size 640x480 with 1 Axes>"
      ]
     },
     "metadata": {},
     "output_type": "display_data"
    }
   ],
   "source": [
    "sns.countplot(kd1['classification'])"
   ]
  },
  {
   "cell_type": "code",
   "execution_count": 43,
   "id": "5c1ddc40",
   "metadata": {},
   "outputs": [],
   "source": [
    "x_tr,x_tt,y_tr,y_tt= train_test_split(x,y,train_size=0.84,random_state=255)"
   ]
  },
  {
   "cell_type": "markdown",
   "id": "a29a8fea",
   "metadata": {},
   "source": [
    "# Logistic Regression"
   ]
  },
  {
   "cell_type": "code",
   "execution_count": 44,
   "id": "27fab58a",
   "metadata": {},
   "outputs": [
    {
     "data": {
      "text/html": [
       "<style>#sk-container-id-1 {color: black;background-color: white;}#sk-container-id-1 pre{padding: 0;}#sk-container-id-1 div.sk-toggleable {background-color: white;}#sk-container-id-1 label.sk-toggleable__label {cursor: pointer;display: block;width: 100%;margin-bottom: 0;padding: 0.3em;box-sizing: border-box;text-align: center;}#sk-container-id-1 label.sk-toggleable__label-arrow:before {content: \"▸\";float: left;margin-right: 0.25em;color: #696969;}#sk-container-id-1 label.sk-toggleable__label-arrow:hover:before {color: black;}#sk-container-id-1 div.sk-estimator:hover label.sk-toggleable__label-arrow:before {color: black;}#sk-container-id-1 div.sk-toggleable__content {max-height: 0;max-width: 0;overflow: hidden;text-align: left;background-color: #f0f8ff;}#sk-container-id-1 div.sk-toggleable__content pre {margin: 0.2em;color: black;border-radius: 0.25em;background-color: #f0f8ff;}#sk-container-id-1 input.sk-toggleable__control:checked~div.sk-toggleable__content {max-height: 200px;max-width: 100%;overflow: auto;}#sk-container-id-1 input.sk-toggleable__control:checked~label.sk-toggleable__label-arrow:before {content: \"▾\";}#sk-container-id-1 div.sk-estimator input.sk-toggleable__control:checked~label.sk-toggleable__label {background-color: #d4ebff;}#sk-container-id-1 div.sk-label input.sk-toggleable__control:checked~label.sk-toggleable__label {background-color: #d4ebff;}#sk-container-id-1 input.sk-hidden--visually {border: 0;clip: rect(1px 1px 1px 1px);clip: rect(1px, 1px, 1px, 1px);height: 1px;margin: -1px;overflow: hidden;padding: 0;position: absolute;width: 1px;}#sk-container-id-1 div.sk-estimator {font-family: monospace;background-color: #f0f8ff;border: 1px dotted black;border-radius: 0.25em;box-sizing: border-box;margin-bottom: 0.5em;}#sk-container-id-1 div.sk-estimator:hover {background-color: #d4ebff;}#sk-container-id-1 div.sk-parallel-item::after {content: \"\";width: 100%;border-bottom: 1px solid gray;flex-grow: 1;}#sk-container-id-1 div.sk-label:hover label.sk-toggleable__label {background-color: #d4ebff;}#sk-container-id-1 div.sk-serial::before {content: \"\";position: absolute;border-left: 1px solid gray;box-sizing: border-box;top: 0;bottom: 0;left: 50%;z-index: 0;}#sk-container-id-1 div.sk-serial {display: flex;flex-direction: column;align-items: center;background-color: white;padding-right: 0.2em;padding-left: 0.2em;position: relative;}#sk-container-id-1 div.sk-item {position: relative;z-index: 1;}#sk-container-id-1 div.sk-parallel {display: flex;align-items: stretch;justify-content: center;background-color: white;position: relative;}#sk-container-id-1 div.sk-item::before, #sk-container-id-1 div.sk-parallel-item::before {content: \"\";position: absolute;border-left: 1px solid gray;box-sizing: border-box;top: 0;bottom: 0;left: 50%;z-index: -1;}#sk-container-id-1 div.sk-parallel-item {display: flex;flex-direction: column;z-index: 1;position: relative;background-color: white;}#sk-container-id-1 div.sk-parallel-item:first-child::after {align-self: flex-end;width: 50%;}#sk-container-id-1 div.sk-parallel-item:last-child::after {align-self: flex-start;width: 50%;}#sk-container-id-1 div.sk-parallel-item:only-child::after {width: 0;}#sk-container-id-1 div.sk-dashed-wrapped {border: 1px dashed gray;margin: 0 0.4em 0.5em 0.4em;box-sizing: border-box;padding-bottom: 0.4em;background-color: white;}#sk-container-id-1 div.sk-label label {font-family: monospace;font-weight: bold;display: inline-block;line-height: 1.2em;}#sk-container-id-1 div.sk-label-container {text-align: center;}#sk-container-id-1 div.sk-container {/* jupyter's `normalize.less` sets `[hidden] { display: none; }` but bootstrap.min.css set `[hidden] { display: none !important; }` so we also need the `!important` here to be able to override the default hidden behavior on the sphinx rendered scikit-learn.org. See: https://github.com/scikit-learn/scikit-learn/issues/21755 */display: inline-block !important;position: relative;}#sk-container-id-1 div.sk-text-repr-fallback {display: none;}</style><div id=\"sk-container-id-1\" class=\"sk-top-container\"><div class=\"sk-text-repr-fallback\"><pre>LogisticRegression(class_weight={0.0: 0.85, 1.0: 0.15}, l1_ratio=0.7,\n",
       "                   penalty=&#x27;elasticnet&#x27;, random_state=620, solver=&#x27;saga&#x27;)</pre><b>In a Jupyter environment, please rerun this cell to show the HTML representation or trust the notebook. <br />On GitHub, the HTML representation is unable to render, please try loading this page with nbviewer.org.</b></div><div class=\"sk-container\" hidden><div class=\"sk-item\"><div class=\"sk-estimator sk-toggleable\"><input class=\"sk-toggleable__control sk-hidden--visually\" id=\"sk-estimator-id-1\" type=\"checkbox\" checked><label for=\"sk-estimator-id-1\" class=\"sk-toggleable__label sk-toggleable__label-arrow\">LogisticRegression</label><div class=\"sk-toggleable__content\"><pre>LogisticRegression(class_weight={0.0: 0.85, 1.0: 0.15}, l1_ratio=0.7,\n",
       "                   penalty=&#x27;elasticnet&#x27;, random_state=620, solver=&#x27;saga&#x27;)</pre></div></div></div></div></div>"
      ],
      "text/plain": [
       "LogisticRegression(class_weight={0.0: 0.85, 1.0: 0.15}, l1_ratio=0.7,\n",
       "                   penalty='elasticnet', random_state=620, solver='saga')"
      ]
     },
     "execution_count": 44,
     "metadata": {},
     "output_type": "execute_result"
    }
   ],
   "source": [
    "logr= LogisticRegression(penalty='elasticnet',random_state=620,solver='saga',class_weight={0.0:0.85,1.0:0.15},l1_ratio=0.7)\n",
    "logr.fit(x_tr,y_tr)"
   ]
  },
  {
   "cell_type": "code",
   "execution_count": 45,
   "id": "b540ff19",
   "metadata": {},
   "outputs": [],
   "source": [
    "pred_logr= logr.predict(x_tt)"
   ]
  },
  {
   "cell_type": "code",
   "execution_count": 46,
   "id": "d86c7099",
   "metadata": {},
   "outputs": [
    {
     "name": "stdout",
     "output_type": "stream",
     "text": [
      "[[20  0]\n",
      " [ 5 39]]\n"
     ]
    }
   ],
   "source": [
    "conf= confusion_matrix(y_tt,pred_logr)\n",
    "print(conf)"
   ]
  },
  {
   "cell_type": "code",
   "execution_count": 47,
   "id": "85648c54",
   "metadata": {},
   "outputs": [
    {
     "name": "stdout",
     "output_type": "stream",
     "text": [
      "              precision    recall  f1-score   support\n",
      "\n",
      "         0.0       0.80      1.00      0.89        20\n",
      "         1.0       1.00      0.89      0.94        44\n",
      "\n",
      "    accuracy                           0.92        64\n",
      "   macro avg       0.90      0.94      0.91        64\n",
      "weighted avg       0.94      0.92      0.92        64\n",
      "\n"
     ]
    }
   ],
   "source": [
    "print(classification_report(y_tt,pred_logr))"
   ]
  },
  {
   "cell_type": "code",
   "execution_count": 48,
   "id": "60d3a2c9",
   "metadata": {
    "scrolled": true
   },
   "outputs": [
    {
     "name": "stdout",
     "output_type": "stream",
     "text": [
      "0.921875\n"
     ]
    }
   ],
   "source": [
    "print(accuracy_score(y_tt,pred_logr))"
   ]
  },
  {
   "cell_type": "markdown",
   "id": "4d92c638",
   "metadata": {},
   "source": [
    "# Random Forest Classifier"
   ]
  },
  {
   "cell_type": "code",
   "execution_count": 49,
   "id": "32a34c1e",
   "metadata": {},
   "outputs": [
    {
     "data": {
      "text/html": [
       "<style>#sk-container-id-2 {color: black;background-color: white;}#sk-container-id-2 pre{padding: 0;}#sk-container-id-2 div.sk-toggleable {background-color: white;}#sk-container-id-2 label.sk-toggleable__label {cursor: pointer;display: block;width: 100%;margin-bottom: 0;padding: 0.3em;box-sizing: border-box;text-align: center;}#sk-container-id-2 label.sk-toggleable__label-arrow:before {content: \"▸\";float: left;margin-right: 0.25em;color: #696969;}#sk-container-id-2 label.sk-toggleable__label-arrow:hover:before {color: black;}#sk-container-id-2 div.sk-estimator:hover label.sk-toggleable__label-arrow:before {color: black;}#sk-container-id-2 div.sk-toggleable__content {max-height: 0;max-width: 0;overflow: hidden;text-align: left;background-color: #f0f8ff;}#sk-container-id-2 div.sk-toggleable__content pre {margin: 0.2em;color: black;border-radius: 0.25em;background-color: #f0f8ff;}#sk-container-id-2 input.sk-toggleable__control:checked~div.sk-toggleable__content {max-height: 200px;max-width: 100%;overflow: auto;}#sk-container-id-2 input.sk-toggleable__control:checked~label.sk-toggleable__label-arrow:before {content: \"▾\";}#sk-container-id-2 div.sk-estimator input.sk-toggleable__control:checked~label.sk-toggleable__label {background-color: #d4ebff;}#sk-container-id-2 div.sk-label input.sk-toggleable__control:checked~label.sk-toggleable__label {background-color: #d4ebff;}#sk-container-id-2 input.sk-hidden--visually {border: 0;clip: rect(1px 1px 1px 1px);clip: rect(1px, 1px, 1px, 1px);height: 1px;margin: -1px;overflow: hidden;padding: 0;position: absolute;width: 1px;}#sk-container-id-2 div.sk-estimator {font-family: monospace;background-color: #f0f8ff;border: 1px dotted black;border-radius: 0.25em;box-sizing: border-box;margin-bottom: 0.5em;}#sk-container-id-2 div.sk-estimator:hover {background-color: #d4ebff;}#sk-container-id-2 div.sk-parallel-item::after {content: \"\";width: 100%;border-bottom: 1px solid gray;flex-grow: 1;}#sk-container-id-2 div.sk-label:hover label.sk-toggleable__label {background-color: #d4ebff;}#sk-container-id-2 div.sk-serial::before {content: \"\";position: absolute;border-left: 1px solid gray;box-sizing: border-box;top: 0;bottom: 0;left: 50%;z-index: 0;}#sk-container-id-2 div.sk-serial {display: flex;flex-direction: column;align-items: center;background-color: white;padding-right: 0.2em;padding-left: 0.2em;position: relative;}#sk-container-id-2 div.sk-item {position: relative;z-index: 1;}#sk-container-id-2 div.sk-parallel {display: flex;align-items: stretch;justify-content: center;background-color: white;position: relative;}#sk-container-id-2 div.sk-item::before, #sk-container-id-2 div.sk-parallel-item::before {content: \"\";position: absolute;border-left: 1px solid gray;box-sizing: border-box;top: 0;bottom: 0;left: 50%;z-index: -1;}#sk-container-id-2 div.sk-parallel-item {display: flex;flex-direction: column;z-index: 1;position: relative;background-color: white;}#sk-container-id-2 div.sk-parallel-item:first-child::after {align-self: flex-end;width: 50%;}#sk-container-id-2 div.sk-parallel-item:last-child::after {align-self: flex-start;width: 50%;}#sk-container-id-2 div.sk-parallel-item:only-child::after {width: 0;}#sk-container-id-2 div.sk-dashed-wrapped {border: 1px dashed gray;margin: 0 0.4em 0.5em 0.4em;box-sizing: border-box;padding-bottom: 0.4em;background-color: white;}#sk-container-id-2 div.sk-label label {font-family: monospace;font-weight: bold;display: inline-block;line-height: 1.2em;}#sk-container-id-2 div.sk-label-container {text-align: center;}#sk-container-id-2 div.sk-container {/* jupyter's `normalize.less` sets `[hidden] { display: none; }` but bootstrap.min.css set `[hidden] { display: none !important; }` so we also need the `!important` here to be able to override the default hidden behavior on the sphinx rendered scikit-learn.org. See: https://github.com/scikit-learn/scikit-learn/issues/21755 */display: inline-block !important;position: relative;}#sk-container-id-2 div.sk-text-repr-fallback {display: none;}</style><div id=\"sk-container-id-2\" class=\"sk-top-container\"><div class=\"sk-text-repr-fallback\"><pre>RandomForestClassifier(ccp_alpha=0.12, class_weight={0.0: 0.87, 1.0: 0.1},\n",
       "                       criterion=&#x27;entropy&#x27;, max_samples=75, n_estimators=125,\n",
       "                       random_state=552)</pre><b>In a Jupyter environment, please rerun this cell to show the HTML representation or trust the notebook. <br />On GitHub, the HTML representation is unable to render, please try loading this page with nbviewer.org.</b></div><div class=\"sk-container\" hidden><div class=\"sk-item\"><div class=\"sk-estimator sk-toggleable\"><input class=\"sk-toggleable__control sk-hidden--visually\" id=\"sk-estimator-id-2\" type=\"checkbox\" checked><label for=\"sk-estimator-id-2\" class=\"sk-toggleable__label sk-toggleable__label-arrow\">RandomForestClassifier</label><div class=\"sk-toggleable__content\"><pre>RandomForestClassifier(ccp_alpha=0.12, class_weight={0.0: 0.87, 1.0: 0.1},\n",
       "                       criterion=&#x27;entropy&#x27;, max_samples=75, n_estimators=125,\n",
       "                       random_state=552)</pre></div></div></div></div></div>"
      ],
      "text/plain": [
       "RandomForestClassifier(ccp_alpha=0.12, class_weight={0.0: 0.87, 1.0: 0.1},\n",
       "                       criterion='entropy', max_samples=75, n_estimators=125,\n",
       "                       random_state=552)"
      ]
     },
     "execution_count": 49,
     "metadata": {},
     "output_type": "execute_result"
    }
   ],
   "source": [
    "rof= RandomForestClassifier(n_estimators=125,criterion='entropy',random_state=552,class_weight={0.0:0.87,1.0:0.1},max_samples=75,ccp_alpha=0.12)\n",
    "rof.fit(x_tr,y_tr)"
   ]
  },
  {
   "cell_type": "code",
   "execution_count": 50,
   "id": "2d33bc00",
   "metadata": {},
   "outputs": [],
   "source": [
    "pred_ens= rof.predict(x_tt)"
   ]
  },
  {
   "cell_type": "code",
   "execution_count": 51,
   "id": "81b89bd5",
   "metadata": {},
   "outputs": [
    {
     "name": "stdout",
     "output_type": "stream",
     "text": [
      "[[20  0]\n",
      " [ 2 42]]\n"
     ]
    }
   ],
   "source": [
    "print(confusion_matrix(y_tt,pred_ens))"
   ]
  },
  {
   "cell_type": "code",
   "execution_count": 52,
   "id": "15ee7fbd",
   "metadata": {},
   "outputs": [
    {
     "name": "stdout",
     "output_type": "stream",
     "text": [
      "0.96875\n"
     ]
    }
   ],
   "source": [
    "print(accuracy_score(y_tt,pred_ens))"
   ]
  },
  {
   "cell_type": "code",
   "execution_count": 53,
   "id": "567dfa05",
   "metadata": {},
   "outputs": [
    {
     "name": "stdout",
     "output_type": "stream",
     "text": [
      "              precision    recall  f1-score   support\n",
      "\n",
      "         0.0       0.91      1.00      0.95        20\n",
      "         1.0       1.00      0.95      0.98        44\n",
      "\n",
      "    accuracy                           0.97        64\n",
      "   macro avg       0.95      0.98      0.96        64\n",
      "weighted avg       0.97      0.97      0.97        64\n",
      "\n"
     ]
    }
   ],
   "source": [
    "print(classification_report(y_tt,pred_ens))"
   ]
  },
  {
   "cell_type": "markdown",
   "id": "0df546db",
   "metadata": {},
   "source": [
    "# Ensemble Learning"
   ]
  },
  {
   "cell_type": "code",
   "execution_count": 54,
   "id": "af13434c",
   "metadata": {},
   "outputs": [],
   "source": [
    "# X_test = trial03\n",
    "\n",
    "# model11= logr\n",
    "# model22= rof\n",
    "\n",
    "# pred1=model11.predict_proba(X_test)\n",
    "# pred2=model22.predict_proba(X_test)"
   ]
  },
  {
   "cell_type": "code",
   "execution_count": 55,
   "id": "85298089",
   "metadata": {},
   "outputs": [],
   "source": [
    "# print(pred1)"
   ]
  },
  {
   "cell_type": "code",
   "execution_count": 56,
   "id": "bddb2f27",
   "metadata": {},
   "outputs": [],
   "source": [
    "# print(pred2)"
   ]
  },
  {
   "cell_type": "code",
   "execution_count": 57,
   "id": "24f5c911",
   "metadata": {},
   "outputs": [],
   "source": [
    "# avg_arr_ckd = [(pred1[0][1] + pred2[0][1])/2]\n",
    "# print(\"ckd probability: \", avg_arr_ckd[0])"
   ]
  },
  {
   "cell_type": "code",
   "execution_count": 58,
   "id": "908cdad0",
   "metadata": {},
   "outputs": [],
   "source": [
    "# avg_arr_notckd = [(pred1[0][0] + pred2[0][0])/2]\n",
    "# print(\"notckd probability: \", avg_arr_notckd[0])"
   ]
  },
  {
   "cell_type": "code",
   "execution_count": 59,
   "id": "a2842e2b",
   "metadata": {},
   "outputs": [],
   "source": [
    "# if avg_arr_ckd[0] >= 0.5:\n",
    "#     print(\"ckd\")\n",
    "#     y_test = 1\n",
    "# else:\n",
    "#     print(\"notckd\")\n",
    "#     y_test = 0"
   ]
  },
  {
   "cell_type": "code",
   "execution_count": 60,
   "id": "530ddcb3",
   "metadata": {},
   "outputs": [],
   "source": [
    "model_list= [('log_reg',logr),('rf',rof)]"
   ]
  },
  {
   "cell_type": "code",
   "execution_count": 61,
   "id": "b42cf7ee",
   "metadata": {},
   "outputs": [],
   "source": [
    "ensemble_mdl= VotingClassifier(model_list,voting=\"soft\")"
   ]
  },
  {
   "cell_type": "code",
   "execution_count": 62,
   "id": "f4616c33",
   "metadata": {
    "scrolled": true
   },
   "outputs": [
    {
     "data": {
      "text/html": [
       "<style>#sk-container-id-3 {color: black;background-color: white;}#sk-container-id-3 pre{padding: 0;}#sk-container-id-3 div.sk-toggleable {background-color: white;}#sk-container-id-3 label.sk-toggleable__label {cursor: pointer;display: block;width: 100%;margin-bottom: 0;padding: 0.3em;box-sizing: border-box;text-align: center;}#sk-container-id-3 label.sk-toggleable__label-arrow:before {content: \"▸\";float: left;margin-right: 0.25em;color: #696969;}#sk-container-id-3 label.sk-toggleable__label-arrow:hover:before {color: black;}#sk-container-id-3 div.sk-estimator:hover label.sk-toggleable__label-arrow:before {color: black;}#sk-container-id-3 div.sk-toggleable__content {max-height: 0;max-width: 0;overflow: hidden;text-align: left;background-color: #f0f8ff;}#sk-container-id-3 div.sk-toggleable__content pre {margin: 0.2em;color: black;border-radius: 0.25em;background-color: #f0f8ff;}#sk-container-id-3 input.sk-toggleable__control:checked~div.sk-toggleable__content {max-height: 200px;max-width: 100%;overflow: auto;}#sk-container-id-3 input.sk-toggleable__control:checked~label.sk-toggleable__label-arrow:before {content: \"▾\";}#sk-container-id-3 div.sk-estimator input.sk-toggleable__control:checked~label.sk-toggleable__label {background-color: #d4ebff;}#sk-container-id-3 div.sk-label input.sk-toggleable__control:checked~label.sk-toggleable__label {background-color: #d4ebff;}#sk-container-id-3 input.sk-hidden--visually {border: 0;clip: rect(1px 1px 1px 1px);clip: rect(1px, 1px, 1px, 1px);height: 1px;margin: -1px;overflow: hidden;padding: 0;position: absolute;width: 1px;}#sk-container-id-3 div.sk-estimator {font-family: monospace;background-color: #f0f8ff;border: 1px dotted black;border-radius: 0.25em;box-sizing: border-box;margin-bottom: 0.5em;}#sk-container-id-3 div.sk-estimator:hover {background-color: #d4ebff;}#sk-container-id-3 div.sk-parallel-item::after {content: \"\";width: 100%;border-bottom: 1px solid gray;flex-grow: 1;}#sk-container-id-3 div.sk-label:hover label.sk-toggleable__label {background-color: #d4ebff;}#sk-container-id-3 div.sk-serial::before {content: \"\";position: absolute;border-left: 1px solid gray;box-sizing: border-box;top: 0;bottom: 0;left: 50%;z-index: 0;}#sk-container-id-3 div.sk-serial {display: flex;flex-direction: column;align-items: center;background-color: white;padding-right: 0.2em;padding-left: 0.2em;position: relative;}#sk-container-id-3 div.sk-item {position: relative;z-index: 1;}#sk-container-id-3 div.sk-parallel {display: flex;align-items: stretch;justify-content: center;background-color: white;position: relative;}#sk-container-id-3 div.sk-item::before, #sk-container-id-3 div.sk-parallel-item::before {content: \"\";position: absolute;border-left: 1px solid gray;box-sizing: border-box;top: 0;bottom: 0;left: 50%;z-index: -1;}#sk-container-id-3 div.sk-parallel-item {display: flex;flex-direction: column;z-index: 1;position: relative;background-color: white;}#sk-container-id-3 div.sk-parallel-item:first-child::after {align-self: flex-end;width: 50%;}#sk-container-id-3 div.sk-parallel-item:last-child::after {align-self: flex-start;width: 50%;}#sk-container-id-3 div.sk-parallel-item:only-child::after {width: 0;}#sk-container-id-3 div.sk-dashed-wrapped {border: 1px dashed gray;margin: 0 0.4em 0.5em 0.4em;box-sizing: border-box;padding-bottom: 0.4em;background-color: white;}#sk-container-id-3 div.sk-label label {font-family: monospace;font-weight: bold;display: inline-block;line-height: 1.2em;}#sk-container-id-3 div.sk-label-container {text-align: center;}#sk-container-id-3 div.sk-container {/* jupyter's `normalize.less` sets `[hidden] { display: none; }` but bootstrap.min.css set `[hidden] { display: none !important; }` so we also need the `!important` here to be able to override the default hidden behavior on the sphinx rendered scikit-learn.org. See: https://github.com/scikit-learn/scikit-learn/issues/21755 */display: inline-block !important;position: relative;}#sk-container-id-3 div.sk-text-repr-fallback {display: none;}</style><div id=\"sk-container-id-3\" class=\"sk-top-container\"><div class=\"sk-text-repr-fallback\"><pre>VotingClassifier(estimators=[(&#x27;log_reg&#x27;,\n",
       "                              LogisticRegression(class_weight={0.0: 0.85,\n",
       "                                                               1.0: 0.15},\n",
       "                                                 l1_ratio=0.7,\n",
       "                                                 penalty=&#x27;elasticnet&#x27;,\n",
       "                                                 random_state=620,\n",
       "                                                 solver=&#x27;saga&#x27;)),\n",
       "                             (&#x27;rf&#x27;,\n",
       "                              RandomForestClassifier(ccp_alpha=0.12,\n",
       "                                                     class_weight={0.0: 0.87,\n",
       "                                                                   1.0: 0.1},\n",
       "                                                     criterion=&#x27;entropy&#x27;,\n",
       "                                                     max_samples=75,\n",
       "                                                     n_estimators=125,\n",
       "                                                     random_state=552))],\n",
       "                 voting=&#x27;soft&#x27;)</pre><b>In a Jupyter environment, please rerun this cell to show the HTML representation or trust the notebook. <br />On GitHub, the HTML representation is unable to render, please try loading this page with nbviewer.org.</b></div><div class=\"sk-container\" hidden><div class=\"sk-item sk-dashed-wrapped\"><div class=\"sk-label-container\"><div class=\"sk-label sk-toggleable\"><input class=\"sk-toggleable__control sk-hidden--visually\" id=\"sk-estimator-id-3\" type=\"checkbox\" ><label for=\"sk-estimator-id-3\" class=\"sk-toggleable__label sk-toggleable__label-arrow\">VotingClassifier</label><div class=\"sk-toggleable__content\"><pre>VotingClassifier(estimators=[(&#x27;log_reg&#x27;,\n",
       "                              LogisticRegression(class_weight={0.0: 0.85,\n",
       "                                                               1.0: 0.15},\n",
       "                                                 l1_ratio=0.7,\n",
       "                                                 penalty=&#x27;elasticnet&#x27;,\n",
       "                                                 random_state=620,\n",
       "                                                 solver=&#x27;saga&#x27;)),\n",
       "                             (&#x27;rf&#x27;,\n",
       "                              RandomForestClassifier(ccp_alpha=0.12,\n",
       "                                                     class_weight={0.0: 0.87,\n",
       "                                                                   1.0: 0.1},\n",
       "                                                     criterion=&#x27;entropy&#x27;,\n",
       "                                                     max_samples=75,\n",
       "                                                     n_estimators=125,\n",
       "                                                     random_state=552))],\n",
       "                 voting=&#x27;soft&#x27;)</pre></div></div></div><div class=\"sk-parallel\"><div class=\"sk-parallel-item\"><div class=\"sk-item\"><div class=\"sk-label-container\"><div class=\"sk-label sk-toggleable\"><label>log_reg</label></div></div><div class=\"sk-serial\"><div class=\"sk-item\"><div class=\"sk-estimator sk-toggleable\"><input class=\"sk-toggleable__control sk-hidden--visually\" id=\"sk-estimator-id-4\" type=\"checkbox\" ><label for=\"sk-estimator-id-4\" class=\"sk-toggleable__label sk-toggleable__label-arrow\">LogisticRegression</label><div class=\"sk-toggleable__content\"><pre>LogisticRegression(class_weight={0.0: 0.85, 1.0: 0.15}, l1_ratio=0.7,\n",
       "                   penalty=&#x27;elasticnet&#x27;, random_state=620, solver=&#x27;saga&#x27;)</pre></div></div></div></div></div></div><div class=\"sk-parallel-item\"><div class=\"sk-item\"><div class=\"sk-label-container\"><div class=\"sk-label sk-toggleable\"><label>rf</label></div></div><div class=\"sk-serial\"><div class=\"sk-item\"><div class=\"sk-estimator sk-toggleable\"><input class=\"sk-toggleable__control sk-hidden--visually\" id=\"sk-estimator-id-5\" type=\"checkbox\" ><label for=\"sk-estimator-id-5\" class=\"sk-toggleable__label sk-toggleable__label-arrow\">RandomForestClassifier</label><div class=\"sk-toggleable__content\"><pre>RandomForestClassifier(ccp_alpha=0.12, class_weight={0.0: 0.87, 1.0: 0.1},\n",
       "                       criterion=&#x27;entropy&#x27;, max_samples=75, n_estimators=125,\n",
       "                       random_state=552)</pre></div></div></div></div></div></div></div></div></div></div>"
      ],
      "text/plain": [
       "VotingClassifier(estimators=[('log_reg',\n",
       "                              LogisticRegression(class_weight={0.0: 0.85,\n",
       "                                                               1.0: 0.15},\n",
       "                                                 l1_ratio=0.7,\n",
       "                                                 penalty='elasticnet',\n",
       "                                                 random_state=620,\n",
       "                                                 solver='saga')),\n",
       "                             ('rf',\n",
       "                              RandomForestClassifier(ccp_alpha=0.12,\n",
       "                                                     class_weight={0.0: 0.87,\n",
       "                                                                   1.0: 0.1},\n",
       "                                                     criterion='entropy',\n",
       "                                                     max_samples=75,\n",
       "                                                     n_estimators=125,\n",
       "                                                     random_state=552))],\n",
       "                 voting='soft')"
      ]
     },
     "execution_count": 62,
     "metadata": {},
     "output_type": "execute_result"
    }
   ],
   "source": [
    "ensemble_mdl.fit(x_tr,y_tr)"
   ]
  },
  {
   "cell_type": "code",
   "execution_count": 63,
   "id": "a45d5b0f",
   "metadata": {},
   "outputs": [],
   "source": [
    "pred_ensm= ensemble_mdl.predict(x_tt)"
   ]
  },
  {
   "cell_type": "code",
   "execution_count": 64,
   "id": "7e3f44ac",
   "metadata": {},
   "outputs": [
    {
     "data": {
      "text/plain": [
       "0.953125"
      ]
     },
     "execution_count": 64,
     "metadata": {},
     "output_type": "execute_result"
    }
   ],
   "source": [
    "ensemble_mdl.score(x_tt,y_tt)"
   ]
  },
  {
   "cell_type": "code",
   "execution_count": 65,
   "id": "b3b02491",
   "metadata": {},
   "outputs": [
    {
     "name": "stdout",
     "output_type": "stream",
     "text": [
      "              precision    recall  f1-score   support\n",
      "\n",
      "         0.0       0.87      1.00      0.93        20\n",
      "         1.0       1.00      0.93      0.96        44\n",
      "\n",
      "    accuracy                           0.95        64\n",
      "   macro avg       0.93      0.97      0.95        64\n",
      "weighted avg       0.96      0.95      0.95        64\n",
      "\n"
     ]
    }
   ],
   "source": [
    "print(classification_report(y_tt,pred_ensm))"
   ]
  },
  {
   "cell_type": "markdown",
   "id": "ecbe45e9",
   "metadata": {},
   "source": [
    "# Testing"
   ]
  },
  {
   "cell_type": "markdown",
   "id": "5662cefa",
   "metadata": {},
   "source": [
    "## Logistic Regression"
   ]
  },
  {
   "cell_type": "code",
   "execution_count": 66,
   "id": "2f601f85",
   "metadata": {},
   "outputs": [
    {
     "name": "stdout",
     "output_type": "stream",
     "text": [
      "[[3.86968585e-08 9.99999961e-01]]\n",
      "ckd\n"
     ]
    }
   ],
   "source": [
    "trial00= [[47,100,1.01,0,0,0,0,0,0,204,29,1,139,4.2,9.7,33,9200,4.5,1,0,0,0,0,1]]      #ckd\n",
    "logr_pred = logr.predict_proba(trial00)\n",
    "print(logr_pred)\n",
    "if logr_pred[0][0] <= logr_pred[0][1]:\n",
    "    print(\"ckd\")\n",
    "else:\n",
    "    print(\"notckd\")"
   ]
  },
  {
   "cell_type": "code",
   "execution_count": 67,
   "id": "bd8752db",
   "metadata": {},
   "outputs": [
    {
     "name": "stdout",
     "output_type": "stream",
     "text": [
      "[[1.00000000e+00 4.72335983e-11]]\n",
      "notckd\n"
     ]
    }
   ],
   "source": [
    "trial01= [[42,80,1.02,0,0,0,0,0,0,132,24,0.7,140,4.1,14.4,50,5000,4.5,0,0,0,0,0,0]]     #notckd\n",
    "logr_pred = logr.predict_proba(trial01)\n",
    "print(logr_pred)\n",
    "if logr_pred[0][0] <= logr_pred[0][1]:\n",
    "    print(\"ckd\")\n",
    "else:\n",
    "    print(\"notckd\")"
   ]
  },
  {
   "cell_type": "markdown",
   "id": "43e97541",
   "metadata": {},
   "source": [
    "## Random Forest Classifier"
   ]
  },
  {
   "cell_type": "code",
   "execution_count": 68,
   "id": "043c3d88",
   "metadata": {},
   "outputs": [
    {
     "name": "stdout",
     "output_type": "stream",
     "text": [
      "[[0.47107971 0.52892029]]\n",
      "ckd\n"
     ]
    }
   ],
   "source": [
    "trial02= [[47,100,1.01,0,0,0,0,0,0,204,29,1,139,4.2,9.7,33,9200,4.5,1,0,0,0,0,1]]      #ckd\n",
    "print(rof.predict_proba(trial02))\n",
    "rof_p = rof.predict_proba(trial02)\n",
    "if rof_p[0][0] <= rof_p[0][1]:\n",
    "    print(\"ckd\")\n",
    "else:\n",
    "    print(\"notckd\")"
   ]
  },
  {
   "cell_type": "code",
   "execution_count": 69,
   "id": "ceb8679f",
   "metadata": {},
   "outputs": [
    {
     "name": "stdout",
     "output_type": "stream",
     "text": [
      "[[0.51850497 0.48149503]]\n",
      "notckd\n"
     ]
    }
   ],
   "source": [
    "trial03= [[42,80,1.02,0,0,0,0,0,0,132,24,0.7,140,4.1,14.4,50,5000,4.5,0,0,0,0,0,0]]     #notckd\n",
    "print(rof.predict_proba(trial03))\n",
    "rof_p = rof.predict_proba(trial03)\n",
    "if rof_p[0][0] <= rof_p[0][1]:\n",
    "    print(\"ckd\")\n",
    "else:\n",
    "    print(\"notckd\")"
   ]
  },
  {
   "cell_type": "markdown",
   "id": "c2f4176e",
   "metadata": {},
   "source": [
    "## Ensemble"
   ]
  },
  {
   "cell_type": "code",
   "execution_count": 70,
   "id": "2b71d579",
   "metadata": {},
   "outputs": [
    {
     "name": "stdout",
     "output_type": "stream",
     "text": [
      "[[0.23553988 0.76446012]]\n",
      "ckd\n"
     ]
    }
   ],
   "source": [
    "trial04 = [[47,100,1.01,0,0,0,0,0,0,204,29,1,139,4.2,9.7,33,9200,4.5,1,0,0,0,0,1]]      #ckd\n",
    "e_pred = ensemble_mdl.predict_proba(trial04)\n",
    "print(e_pred)\n",
    "if e_pred[0][0] <= e_pred[0][1]:\n",
    "    print(\"ckd\")\n",
    "else:\n",
    "    print(\"notckd\")"
   ]
  },
  {
   "cell_type": "code",
   "execution_count": 71,
   "id": "f552c419",
   "metadata": {},
   "outputs": [
    {
     "name": "stdout",
     "output_type": "stream",
     "text": [
      "[[0.75925249 0.24074751]]\n",
      "notckd\n"
     ]
    }
   ],
   "source": [
    "trial05= [[42,80,1.02,0,0,0,0,0,0,132,24,0.7,140,4.1,14.4,50,5000,4.5,0,0,0,0,0,0]]     #notckd\n",
    "e_pred = ensemble_mdl.predict_proba(trial05)\n",
    "print(e_pred)\n",
    "if e_pred[0][0] <= e_pred[0][1]:\n",
    "    print(\"ckd\")\n",
    "else:\n",
    "    print(\"notckd\")"
   ]
  },
  {
   "cell_type": "code",
   "execution_count": null,
   "id": "9b5fed84",
   "metadata": {},
   "outputs": [],
   "source": []
  },
  {
   "cell_type": "code",
   "execution_count": null,
   "id": "a9e666f1",
   "metadata": {},
   "outputs": [],
   "source": []
  }
 ],
 "metadata": {
  "kernelspec": {
   "display_name": "Python 3",
   "language": "python",
   "name": "python3"
  },
  "language_info": {
   "codemirror_mode": {
    "name": "ipython",
    "version": 3
   },
   "file_extension": ".py",
   "mimetype": "text/x-python",
   "name": "python",
   "nbconvert_exporter": "python",
   "pygments_lexer": "ipython3",
   "version": "3.11.2"
  },
  "vscode": {
   "interpreter": {
    "hash": "5d3a25ca2af89d4809c81a7ce24d7da1b2402be94f2f0941d14371c7609d81df"
   }
  }
 },
 "nbformat": 4,
 "nbformat_minor": 5
}
